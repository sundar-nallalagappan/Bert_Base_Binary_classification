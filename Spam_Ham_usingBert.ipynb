{
  "nbformat": 4,
  "nbformat_minor": 0,
  "metadata": {
    "colab": {
      "provenance": [],
      "authorship_tag": "ABX9TyP2oIT2kf/8I5LxFzaTFETJ",
      "include_colab_link": true
    },
    "kernelspec": {
      "name": "python3",
      "display_name": "Python 3"
    },
    "language_info": {
      "name": "python"
    }
  },
  "cells": [
    {
      "cell_type": "markdown",
      "metadata": {
        "id": "view-in-github",
        "colab_type": "text"
      },
      "source": [
        "<a href=\"https://colab.research.google.com/github/sundar-nallalagappan/Bert_Base_Binary_classification/blob/main/Spam_Ham_usingBert.ipynb\" target=\"_parent\"><img src=\"https://colab.research.google.com/assets/colab-badge.svg\" alt=\"Open In Colab\"/></a>"
      ]
    },
    {
      "cell_type": "code",
      "execution_count": 27,
      "metadata": {
        "colab": {
          "base_uri": "https://localhost:8080/"
        },
        "id": "D4n9N4acZPBm",
        "outputId": "b06570da-e578-4447-ec39-50460dc3a881"
      },
      "outputs": [
        {
          "output_type": "stream",
          "name": "stdout",
          "text": [
            "sairam\n"
          ]
        }
      ],
      "source": [
        "print(\"sairam\")"
      ]
    },
    {
      "cell_type": "code",
      "source": [
        "!pip install -U \"tensorflow==2.8.*\"\n",
        "!pip install -U \"tensorflow-text==2.8.*\"\n",
        "import tensorflow as tf\n",
        "import tensorflow_text as text"
      ],
      "metadata": {
        "colab": {
          "base_uri": "https://localhost:8080/"
        },
        "id": "6Z6xw8HfiFh7",
        "outputId": "a5fbf5ca-98dd-49f8-f6aa-e96c93813f46"
      },
      "execution_count": 28,
      "outputs": [
        {
          "output_type": "stream",
          "name": "stdout",
          "text": [
            "Looking in indexes: https://pypi.org/simple, https://us-python.pkg.dev/colab-wheels/public/simple/\n",
            "Requirement already satisfied: tensorflow==2.8.* in /usr/local/lib/python3.8/dist-packages (2.8.4)\n",
            "Requirement already satisfied: setuptools in /usr/local/lib/python3.8/dist-packages (from tensorflow==2.8.*) (57.4.0)\n",
            "Requirement already satisfied: gast>=0.2.1 in /usr/local/lib/python3.8/dist-packages (from tensorflow==2.8.*) (0.4.0)\n",
            "Requirement already satisfied: tensorflow-io-gcs-filesystem>=0.23.1 in /usr/local/lib/python3.8/dist-packages (from tensorflow==2.8.*) (0.28.0)\n",
            "Requirement already satisfied: typing-extensions>=3.6.6 in /usr/local/lib/python3.8/dist-packages (from tensorflow==2.8.*) (4.4.0)\n",
            "Requirement already satisfied: tensorboard<2.9,>=2.8 in /usr/local/lib/python3.8/dist-packages (from tensorflow==2.8.*) (2.8.0)\n",
            "Requirement already satisfied: wrapt>=1.11.0 in /usr/local/lib/python3.8/dist-packages (from tensorflow==2.8.*) (1.14.1)\n",
            "Requirement already satisfied: opt-einsum>=2.3.2 in /usr/local/lib/python3.8/dist-packages (from tensorflow==2.8.*) (3.3.0)\n",
            "Requirement already satisfied: absl-py>=0.4.0 in /usr/local/lib/python3.8/dist-packages (from tensorflow==2.8.*) (1.3.0)\n",
            "Requirement already satisfied: google-pasta>=0.1.1 in /usr/local/lib/python3.8/dist-packages (from tensorflow==2.8.*) (0.2.0)\n",
            "Requirement already satisfied: six>=1.12.0 in /usr/local/lib/python3.8/dist-packages (from tensorflow==2.8.*) (1.15.0)\n",
            "Requirement already satisfied: keras<2.9,>=2.8.0rc0 in /usr/local/lib/python3.8/dist-packages (from tensorflow==2.8.*) (2.8.0)\n",
            "Requirement already satisfied: flatbuffers>=1.12 in /usr/local/lib/python3.8/dist-packages (from tensorflow==2.8.*) (1.12)\n",
            "Requirement already satisfied: termcolor>=1.1.0 in /usr/local/lib/python3.8/dist-packages (from tensorflow==2.8.*) (2.1.1)\n",
            "Requirement already satisfied: h5py>=2.9.0 in /usr/local/lib/python3.8/dist-packages (from tensorflow==2.8.*) (3.1.0)\n",
            "Requirement already satisfied: keras-preprocessing>=1.1.1 in /usr/local/lib/python3.8/dist-packages (from tensorflow==2.8.*) (1.1.2)\n",
            "Requirement already satisfied: astunparse>=1.6.0 in /usr/local/lib/python3.8/dist-packages (from tensorflow==2.8.*) (1.6.3)\n",
            "Requirement already satisfied: protobuf<3.20,>=3.9.2 in /usr/local/lib/python3.8/dist-packages (from tensorflow==2.8.*) (3.19.6)\n",
            "Requirement already satisfied: numpy>=1.20 in /usr/local/lib/python3.8/dist-packages (from tensorflow==2.8.*) (1.21.6)\n",
            "Requirement already satisfied: grpcio<2.0,>=1.24.3 in /usr/local/lib/python3.8/dist-packages (from tensorflow==2.8.*) (1.51.1)\n",
            "Requirement already satisfied: libclang>=9.0.1 in /usr/local/lib/python3.8/dist-packages (from tensorflow==2.8.*) (14.0.6)\n",
            "Requirement already satisfied: tensorflow-estimator<2.9,>=2.8 in /usr/local/lib/python3.8/dist-packages (from tensorflow==2.8.*) (2.8.0)\n",
            "Requirement already satisfied: wheel<1.0,>=0.23.0 in /usr/local/lib/python3.8/dist-packages (from astunparse>=1.6.0->tensorflow==2.8.*) (0.38.4)\n",
            "Requirement already satisfied: tensorboard-plugin-wit>=1.6.0 in /usr/local/lib/python3.8/dist-packages (from tensorboard<2.9,>=2.8->tensorflow==2.8.*) (1.8.1)\n",
            "Requirement already satisfied: markdown>=2.6.8 in /usr/local/lib/python3.8/dist-packages (from tensorboard<2.9,>=2.8->tensorflow==2.8.*) (3.4.1)\n",
            "Requirement already satisfied: google-auth<3,>=1.6.3 in /usr/local/lib/python3.8/dist-packages (from tensorboard<2.9,>=2.8->tensorflow==2.8.*) (2.15.0)\n",
            "Requirement already satisfied: werkzeug>=0.11.15 in /usr/local/lib/python3.8/dist-packages (from tensorboard<2.9,>=2.8->tensorflow==2.8.*) (1.0.1)\n",
            "Requirement already satisfied: tensorboard-data-server<0.7.0,>=0.6.0 in /usr/local/lib/python3.8/dist-packages (from tensorboard<2.9,>=2.8->tensorflow==2.8.*) (0.6.1)\n",
            "Requirement already satisfied: google-auth-oauthlib<0.5,>=0.4.1 in /usr/local/lib/python3.8/dist-packages (from tensorboard<2.9,>=2.8->tensorflow==2.8.*) (0.4.6)\n",
            "Requirement already satisfied: requests<3,>=2.21.0 in /usr/local/lib/python3.8/dist-packages (from tensorboard<2.9,>=2.8->tensorflow==2.8.*) (2.23.0)\n",
            "Requirement already satisfied: rsa<5,>=3.1.4 in /usr/local/lib/python3.8/dist-packages (from google-auth<3,>=1.6.3->tensorboard<2.9,>=2.8->tensorflow==2.8.*) (4.9)\n",
            "Requirement already satisfied: cachetools<6.0,>=2.0.0 in /usr/local/lib/python3.8/dist-packages (from google-auth<3,>=1.6.3->tensorboard<2.9,>=2.8->tensorflow==2.8.*) (5.2.0)\n",
            "Requirement already satisfied: pyasn1-modules>=0.2.1 in /usr/local/lib/python3.8/dist-packages (from google-auth<3,>=1.6.3->tensorboard<2.9,>=2.8->tensorflow==2.8.*) (0.2.8)\n",
            "Requirement already satisfied: requests-oauthlib>=0.7.0 in /usr/local/lib/python3.8/dist-packages (from google-auth-oauthlib<0.5,>=0.4.1->tensorboard<2.9,>=2.8->tensorflow==2.8.*) (1.3.1)\n",
            "Requirement already satisfied: importlib-metadata>=4.4 in /usr/local/lib/python3.8/dist-packages (from markdown>=2.6.8->tensorboard<2.9,>=2.8->tensorflow==2.8.*) (5.1.0)\n",
            "Requirement already satisfied: zipp>=0.5 in /usr/local/lib/python3.8/dist-packages (from importlib-metadata>=4.4->markdown>=2.6.8->tensorboard<2.9,>=2.8->tensorflow==2.8.*) (3.11.0)\n",
            "Requirement already satisfied: pyasn1<0.5.0,>=0.4.6 in /usr/local/lib/python3.8/dist-packages (from pyasn1-modules>=0.2.1->google-auth<3,>=1.6.3->tensorboard<2.9,>=2.8->tensorflow==2.8.*) (0.4.8)\n",
            "Requirement already satisfied: urllib3!=1.25.0,!=1.25.1,<1.26,>=1.21.1 in /usr/local/lib/python3.8/dist-packages (from requests<3,>=2.21.0->tensorboard<2.9,>=2.8->tensorflow==2.8.*) (1.24.3)\n",
            "Requirement already satisfied: idna<3,>=2.5 in /usr/local/lib/python3.8/dist-packages (from requests<3,>=2.21.0->tensorboard<2.9,>=2.8->tensorflow==2.8.*) (2.10)\n",
            "Requirement already satisfied: certifi>=2017.4.17 in /usr/local/lib/python3.8/dist-packages (from requests<3,>=2.21.0->tensorboard<2.9,>=2.8->tensorflow==2.8.*) (2022.12.7)\n",
            "Requirement already satisfied: chardet<4,>=3.0.2 in /usr/local/lib/python3.8/dist-packages (from requests<3,>=2.21.0->tensorboard<2.9,>=2.8->tensorflow==2.8.*) (3.0.4)\n",
            "Requirement already satisfied: oauthlib>=3.0.0 in /usr/local/lib/python3.8/dist-packages (from requests-oauthlib>=0.7.0->google-auth-oauthlib<0.5,>=0.4.1->tensorboard<2.9,>=2.8->tensorflow==2.8.*) (3.2.2)\n",
            "Looking in indexes: https://pypi.org/simple, https://us-python.pkg.dev/colab-wheels/public/simple/\n",
            "Requirement already satisfied: tensorflow-text==2.8.* in /usr/local/lib/python3.8/dist-packages (2.8.2)\n",
            "Requirement already satisfied: tensorflow<2.9,>=2.8.0 in /usr/local/lib/python3.8/dist-packages (from tensorflow-text==2.8.*) (2.8.4)\n",
            "Requirement already satisfied: tensorflow-hub>=0.8.0 in /usr/local/lib/python3.8/dist-packages (from tensorflow-text==2.8.*) (0.12.0)\n",
            "Requirement already satisfied: tensorflow-io-gcs-filesystem>=0.23.1 in /usr/local/lib/python3.8/dist-packages (from tensorflow<2.9,>=2.8.0->tensorflow-text==2.8.*) (0.28.0)\n",
            "Requirement already satisfied: opt-einsum>=2.3.2 in /usr/local/lib/python3.8/dist-packages (from tensorflow<2.9,>=2.8.0->tensorflow-text==2.8.*) (3.3.0)\n",
            "Requirement already satisfied: libclang>=9.0.1 in /usr/local/lib/python3.8/dist-packages (from tensorflow<2.9,>=2.8.0->tensorflow-text==2.8.*) (14.0.6)\n",
            "Requirement already satisfied: tensorboard<2.9,>=2.8 in /usr/local/lib/python3.8/dist-packages (from tensorflow<2.9,>=2.8.0->tensorflow-text==2.8.*) (2.8.0)\n",
            "Requirement already satisfied: gast>=0.2.1 in /usr/local/lib/python3.8/dist-packages (from tensorflow<2.9,>=2.8.0->tensorflow-text==2.8.*) (0.4.0)\n",
            "Requirement already satisfied: keras-preprocessing>=1.1.1 in /usr/local/lib/python3.8/dist-packages (from tensorflow<2.9,>=2.8.0->tensorflow-text==2.8.*) (1.1.2)\n",
            "Requirement already satisfied: absl-py>=0.4.0 in /usr/local/lib/python3.8/dist-packages (from tensorflow<2.9,>=2.8.0->tensorflow-text==2.8.*) (1.3.0)\n",
            "Requirement already satisfied: google-pasta>=0.1.1 in /usr/local/lib/python3.8/dist-packages (from tensorflow<2.9,>=2.8.0->tensorflow-text==2.8.*) (0.2.0)\n",
            "Requirement already satisfied: astunparse>=1.6.0 in /usr/local/lib/python3.8/dist-packages (from tensorflow<2.9,>=2.8.0->tensorflow-text==2.8.*) (1.6.3)\n",
            "Requirement already satisfied: numpy>=1.20 in /usr/local/lib/python3.8/dist-packages (from tensorflow<2.9,>=2.8.0->tensorflow-text==2.8.*) (1.21.6)\n",
            "Requirement already satisfied: six>=1.12.0 in /usr/local/lib/python3.8/dist-packages (from tensorflow<2.9,>=2.8.0->tensorflow-text==2.8.*) (1.15.0)\n",
            "Requirement already satisfied: flatbuffers>=1.12 in /usr/local/lib/python3.8/dist-packages (from tensorflow<2.9,>=2.8.0->tensorflow-text==2.8.*) (1.12)\n",
            "Requirement already satisfied: h5py>=2.9.0 in /usr/local/lib/python3.8/dist-packages (from tensorflow<2.9,>=2.8.0->tensorflow-text==2.8.*) (3.1.0)\n",
            "Requirement already satisfied: grpcio<2.0,>=1.24.3 in /usr/local/lib/python3.8/dist-packages (from tensorflow<2.9,>=2.8.0->tensorflow-text==2.8.*) (1.51.1)\n",
            "Requirement already satisfied: typing-extensions>=3.6.6 in /usr/local/lib/python3.8/dist-packages (from tensorflow<2.9,>=2.8.0->tensorflow-text==2.8.*) (4.4.0)\n",
            "Requirement already satisfied: setuptools in /usr/local/lib/python3.8/dist-packages (from tensorflow<2.9,>=2.8.0->tensorflow-text==2.8.*) (57.4.0)\n",
            "Requirement already satisfied: wrapt>=1.11.0 in /usr/local/lib/python3.8/dist-packages (from tensorflow<2.9,>=2.8.0->tensorflow-text==2.8.*) (1.14.1)\n",
            "Requirement already satisfied: termcolor>=1.1.0 in /usr/local/lib/python3.8/dist-packages (from tensorflow<2.9,>=2.8.0->tensorflow-text==2.8.*) (2.1.1)\n",
            "Requirement already satisfied: keras<2.9,>=2.8.0rc0 in /usr/local/lib/python3.8/dist-packages (from tensorflow<2.9,>=2.8.0->tensorflow-text==2.8.*) (2.8.0)\n",
            "Requirement already satisfied: protobuf<3.20,>=3.9.2 in /usr/local/lib/python3.8/dist-packages (from tensorflow<2.9,>=2.8.0->tensorflow-text==2.8.*) (3.19.6)\n",
            "Requirement already satisfied: tensorflow-estimator<2.9,>=2.8 in /usr/local/lib/python3.8/dist-packages (from tensorflow<2.9,>=2.8.0->tensorflow-text==2.8.*) (2.8.0)\n",
            "Requirement already satisfied: wheel<1.0,>=0.23.0 in /usr/local/lib/python3.8/dist-packages (from astunparse>=1.6.0->tensorflow<2.9,>=2.8.0->tensorflow-text==2.8.*) (0.38.4)\n",
            "Requirement already satisfied: requests<3,>=2.21.0 in /usr/local/lib/python3.8/dist-packages (from tensorboard<2.9,>=2.8->tensorflow<2.9,>=2.8.0->tensorflow-text==2.8.*) (2.23.0)\n",
            "Requirement already satisfied: google-auth-oauthlib<0.5,>=0.4.1 in /usr/local/lib/python3.8/dist-packages (from tensorboard<2.9,>=2.8->tensorflow<2.9,>=2.8.0->tensorflow-text==2.8.*) (0.4.6)\n",
            "Requirement already satisfied: werkzeug>=0.11.15 in /usr/local/lib/python3.8/dist-packages (from tensorboard<2.9,>=2.8->tensorflow<2.9,>=2.8.0->tensorflow-text==2.8.*) (1.0.1)\n",
            "Requirement already satisfied: markdown>=2.6.8 in /usr/local/lib/python3.8/dist-packages (from tensorboard<2.9,>=2.8->tensorflow<2.9,>=2.8.0->tensorflow-text==2.8.*) (3.4.1)\n",
            "Requirement already satisfied: tensorboard-plugin-wit>=1.6.0 in /usr/local/lib/python3.8/dist-packages (from tensorboard<2.9,>=2.8->tensorflow<2.9,>=2.8.0->tensorflow-text==2.8.*) (1.8.1)\n",
            "Requirement already satisfied: tensorboard-data-server<0.7.0,>=0.6.0 in /usr/local/lib/python3.8/dist-packages (from tensorboard<2.9,>=2.8->tensorflow<2.9,>=2.8.0->tensorflow-text==2.8.*) (0.6.1)\n",
            "Requirement already satisfied: google-auth<3,>=1.6.3 in /usr/local/lib/python3.8/dist-packages (from tensorboard<2.9,>=2.8->tensorflow<2.9,>=2.8.0->tensorflow-text==2.8.*) (2.15.0)\n",
            "Requirement already satisfied: cachetools<6.0,>=2.0.0 in /usr/local/lib/python3.8/dist-packages (from google-auth<3,>=1.6.3->tensorboard<2.9,>=2.8->tensorflow<2.9,>=2.8.0->tensorflow-text==2.8.*) (5.2.0)\n",
            "Requirement already satisfied: rsa<5,>=3.1.4 in /usr/local/lib/python3.8/dist-packages (from google-auth<3,>=1.6.3->tensorboard<2.9,>=2.8->tensorflow<2.9,>=2.8.0->tensorflow-text==2.8.*) (4.9)\n",
            "Requirement already satisfied: pyasn1-modules>=0.2.1 in /usr/local/lib/python3.8/dist-packages (from google-auth<3,>=1.6.3->tensorboard<2.9,>=2.8->tensorflow<2.9,>=2.8.0->tensorflow-text==2.8.*) (0.2.8)\n",
            "Requirement already satisfied: requests-oauthlib>=0.7.0 in /usr/local/lib/python3.8/dist-packages (from google-auth-oauthlib<0.5,>=0.4.1->tensorboard<2.9,>=2.8->tensorflow<2.9,>=2.8.0->tensorflow-text==2.8.*) (1.3.1)\n",
            "Requirement already satisfied: importlib-metadata>=4.4 in /usr/local/lib/python3.8/dist-packages (from markdown>=2.6.8->tensorboard<2.9,>=2.8->tensorflow<2.9,>=2.8.0->tensorflow-text==2.8.*) (5.1.0)\n",
            "Requirement already satisfied: zipp>=0.5 in /usr/local/lib/python3.8/dist-packages (from importlib-metadata>=4.4->markdown>=2.6.8->tensorboard<2.9,>=2.8->tensorflow<2.9,>=2.8.0->tensorflow-text==2.8.*) (3.11.0)\n",
            "Requirement already satisfied: pyasn1<0.5.0,>=0.4.6 in /usr/local/lib/python3.8/dist-packages (from pyasn1-modules>=0.2.1->google-auth<3,>=1.6.3->tensorboard<2.9,>=2.8->tensorflow<2.9,>=2.8.0->tensorflow-text==2.8.*) (0.4.8)\n",
            "Requirement already satisfied: chardet<4,>=3.0.2 in /usr/local/lib/python3.8/dist-packages (from requests<3,>=2.21.0->tensorboard<2.9,>=2.8->tensorflow<2.9,>=2.8.0->tensorflow-text==2.8.*) (3.0.4)\n",
            "Requirement already satisfied: urllib3!=1.25.0,!=1.25.1,<1.26,>=1.21.1 in /usr/local/lib/python3.8/dist-packages (from requests<3,>=2.21.0->tensorboard<2.9,>=2.8->tensorflow<2.9,>=2.8.0->tensorflow-text==2.8.*) (1.24.3)\n",
            "Requirement already satisfied: idna<3,>=2.5 in /usr/local/lib/python3.8/dist-packages (from requests<3,>=2.21.0->tensorboard<2.9,>=2.8->tensorflow<2.9,>=2.8.0->tensorflow-text==2.8.*) (2.10)\n",
            "Requirement already satisfied: certifi>=2017.4.17 in /usr/local/lib/python3.8/dist-packages (from requests<3,>=2.21.0->tensorboard<2.9,>=2.8->tensorflow<2.9,>=2.8.0->tensorflow-text==2.8.*) (2022.12.7)\n",
            "Requirement already satisfied: oauthlib>=3.0.0 in /usr/local/lib/python3.8/dist-packages (from requests-oauthlib>=0.7.0->google-auth-oauthlib<0.5,>=0.4.1->tensorboard<2.9,>=2.8->tensorflow<2.9,>=2.8.0->tensorflow-text==2.8.*) (3.2.2)\n"
          ]
        }
      ]
    },
    {
      "cell_type": "code",
      "source": [
        "import tensorflow as tf\n",
        "import tensorflow_hub as hub\n",
        "import tensorflow_text as text\n",
        "print(tf.__version__)\n",
        "\n",
        "from sklearn.model_selection import train_test_split\n",
        "import pandas as pd\n",
        "import numpy as np"
      ],
      "metadata": {
        "colab": {
          "base_uri": "https://localhost:8080/"
        },
        "id": "tXKwMM50ZR9N",
        "outputId": "1c33473e-aac7-4910-b6e6-13ae8aeadac3"
      },
      "execution_count": 29,
      "outputs": [
        {
          "output_type": "stream",
          "name": "stdout",
          "text": [
            "2.8.4\n"
          ]
        }
      ]
    },
    {
      "cell_type": "code",
      "source": [
        "!python --version"
      ],
      "metadata": {
        "colab": {
          "base_uri": "https://localhost:8080/"
        },
        "id": "l4v881ZMZXpr",
        "outputId": "3ccf7e41-9dc2-4ca0-c00e-358922e194d4"
      },
      "execution_count": 30,
      "outputs": [
        {
          "output_type": "stream",
          "name": "stdout",
          "text": [
            "Python 3.8.16\n"
          ]
        }
      ]
    },
    {
      "cell_type": "code",
      "source": [
        "from google.colab import files\n",
        "uploaded = files.upload()"
      ],
      "metadata": {
        "colab": {
          "base_uri": "https://localhost:8080/",
          "height": 73
        },
        "id": "KcxWwgJyZZFL",
        "outputId": "45b9c1e8-34d2-44c1-c529-380868ec10c8"
      },
      "execution_count": 31,
      "outputs": [
        {
          "output_type": "display_data",
          "data": {
            "text/plain": [
              "<IPython.core.display.HTML object>"
            ],
            "text/html": [
              "\n",
              "     <input type=\"file\" id=\"files-072cbddf-4096-4c50-ae91-7f35d478fac0\" name=\"files[]\" multiple disabled\n",
              "        style=\"border:none\" />\n",
              "     <output id=\"result-072cbddf-4096-4c50-ae91-7f35d478fac0\">\n",
              "      Upload widget is only available when the cell has been executed in the\n",
              "      current browser session. Please rerun this cell to enable.\n",
              "      </output>\n",
              "      <script>// Copyright 2017 Google LLC\n",
              "//\n",
              "// Licensed under the Apache License, Version 2.0 (the \"License\");\n",
              "// you may not use this file except in compliance with the License.\n",
              "// You may obtain a copy of the License at\n",
              "//\n",
              "//      http://www.apache.org/licenses/LICENSE-2.0\n",
              "//\n",
              "// Unless required by applicable law or agreed to in writing, software\n",
              "// distributed under the License is distributed on an \"AS IS\" BASIS,\n",
              "// WITHOUT WARRANTIES OR CONDITIONS OF ANY KIND, either express or implied.\n",
              "// See the License for the specific language governing permissions and\n",
              "// limitations under the License.\n",
              "\n",
              "/**\n",
              " * @fileoverview Helpers for google.colab Python module.\n",
              " */\n",
              "(function(scope) {\n",
              "function span(text, styleAttributes = {}) {\n",
              "  const element = document.createElement('span');\n",
              "  element.textContent = text;\n",
              "  for (const key of Object.keys(styleAttributes)) {\n",
              "    element.style[key] = styleAttributes[key];\n",
              "  }\n",
              "  return element;\n",
              "}\n",
              "\n",
              "// Max number of bytes which will be uploaded at a time.\n",
              "const MAX_PAYLOAD_SIZE = 100 * 1024;\n",
              "\n",
              "function _uploadFiles(inputId, outputId) {\n",
              "  const steps = uploadFilesStep(inputId, outputId);\n",
              "  const outputElement = document.getElementById(outputId);\n",
              "  // Cache steps on the outputElement to make it available for the next call\n",
              "  // to uploadFilesContinue from Python.\n",
              "  outputElement.steps = steps;\n",
              "\n",
              "  return _uploadFilesContinue(outputId);\n",
              "}\n",
              "\n",
              "// This is roughly an async generator (not supported in the browser yet),\n",
              "// where there are multiple asynchronous steps and the Python side is going\n",
              "// to poll for completion of each step.\n",
              "// This uses a Promise to block the python side on completion of each step,\n",
              "// then passes the result of the previous step as the input to the next step.\n",
              "function _uploadFilesContinue(outputId) {\n",
              "  const outputElement = document.getElementById(outputId);\n",
              "  const steps = outputElement.steps;\n",
              "\n",
              "  const next = steps.next(outputElement.lastPromiseValue);\n",
              "  return Promise.resolve(next.value.promise).then((value) => {\n",
              "    // Cache the last promise value to make it available to the next\n",
              "    // step of the generator.\n",
              "    outputElement.lastPromiseValue = value;\n",
              "    return next.value.response;\n",
              "  });\n",
              "}\n",
              "\n",
              "/**\n",
              " * Generator function which is called between each async step of the upload\n",
              " * process.\n",
              " * @param {string} inputId Element ID of the input file picker element.\n",
              " * @param {string} outputId Element ID of the output display.\n",
              " * @return {!Iterable<!Object>} Iterable of next steps.\n",
              " */\n",
              "function* uploadFilesStep(inputId, outputId) {\n",
              "  const inputElement = document.getElementById(inputId);\n",
              "  inputElement.disabled = false;\n",
              "\n",
              "  const outputElement = document.getElementById(outputId);\n",
              "  outputElement.innerHTML = '';\n",
              "\n",
              "  const pickedPromise = new Promise((resolve) => {\n",
              "    inputElement.addEventListener('change', (e) => {\n",
              "      resolve(e.target.files);\n",
              "    });\n",
              "  });\n",
              "\n",
              "  const cancel = document.createElement('button');\n",
              "  inputElement.parentElement.appendChild(cancel);\n",
              "  cancel.textContent = 'Cancel upload';\n",
              "  const cancelPromise = new Promise((resolve) => {\n",
              "    cancel.onclick = () => {\n",
              "      resolve(null);\n",
              "    };\n",
              "  });\n",
              "\n",
              "  // Wait for the user to pick the files.\n",
              "  const files = yield {\n",
              "    promise: Promise.race([pickedPromise, cancelPromise]),\n",
              "    response: {\n",
              "      action: 'starting',\n",
              "    }\n",
              "  };\n",
              "\n",
              "  cancel.remove();\n",
              "\n",
              "  // Disable the input element since further picks are not allowed.\n",
              "  inputElement.disabled = true;\n",
              "\n",
              "  if (!files) {\n",
              "    return {\n",
              "      response: {\n",
              "        action: 'complete',\n",
              "      }\n",
              "    };\n",
              "  }\n",
              "\n",
              "  for (const file of files) {\n",
              "    const li = document.createElement('li');\n",
              "    li.append(span(file.name, {fontWeight: 'bold'}));\n",
              "    li.append(span(\n",
              "        `(${file.type || 'n/a'}) - ${file.size} bytes, ` +\n",
              "        `last modified: ${\n",
              "            file.lastModifiedDate ? file.lastModifiedDate.toLocaleDateString() :\n",
              "                                    'n/a'} - `));\n",
              "    const percent = span('0% done');\n",
              "    li.appendChild(percent);\n",
              "\n",
              "    outputElement.appendChild(li);\n",
              "\n",
              "    const fileDataPromise = new Promise((resolve) => {\n",
              "      const reader = new FileReader();\n",
              "      reader.onload = (e) => {\n",
              "        resolve(e.target.result);\n",
              "      };\n",
              "      reader.readAsArrayBuffer(file);\n",
              "    });\n",
              "    // Wait for the data to be ready.\n",
              "    let fileData = yield {\n",
              "      promise: fileDataPromise,\n",
              "      response: {\n",
              "        action: 'continue',\n",
              "      }\n",
              "    };\n",
              "\n",
              "    // Use a chunked sending to avoid message size limits. See b/62115660.\n",
              "    let position = 0;\n",
              "    do {\n",
              "      const length = Math.min(fileData.byteLength - position, MAX_PAYLOAD_SIZE);\n",
              "      const chunk = new Uint8Array(fileData, position, length);\n",
              "      position += length;\n",
              "\n",
              "      const base64 = btoa(String.fromCharCode.apply(null, chunk));\n",
              "      yield {\n",
              "        response: {\n",
              "          action: 'append',\n",
              "          file: file.name,\n",
              "          data: base64,\n",
              "        },\n",
              "      };\n",
              "\n",
              "      let percentDone = fileData.byteLength === 0 ?\n",
              "          100 :\n",
              "          Math.round((position / fileData.byteLength) * 100);\n",
              "      percent.textContent = `${percentDone}% done`;\n",
              "\n",
              "    } while (position < fileData.byteLength);\n",
              "  }\n",
              "\n",
              "  // All done.\n",
              "  yield {\n",
              "    response: {\n",
              "      action: 'complete',\n",
              "    }\n",
              "  };\n",
              "}\n",
              "\n",
              "scope.google = scope.google || {};\n",
              "scope.google.colab = scope.google.colab || {};\n",
              "scope.google.colab._files = {\n",
              "  _uploadFiles,\n",
              "  _uploadFilesContinue,\n",
              "};\n",
              "})(self);\n",
              "</script> "
            ]
          },
          "metadata": {}
        },
        {
          "output_type": "stream",
          "name": "stdout",
          "text": [
            "Saving spam.csv to spam (1).csv\n"
          ]
        }
      ]
    },
    {
      "cell_type": "code",
      "source": [
        "train = pd.read_csv(\"spam.csv\", encoding='ISO-8859-1')\n",
        "train.head()"
      ],
      "metadata": {
        "colab": {
          "base_uri": "https://localhost:8080/",
          "height": 206
        },
        "id": "y9duSzODaWIM",
        "outputId": "31037691-edeb-4113-931e-4bd0819c813e"
      },
      "execution_count": 32,
      "outputs": [
        {
          "output_type": "execute_result",
          "data": {
            "text/plain": [
              "     v1                                                 v2 Unnamed: 2  \\\n",
              "0   ham  Go until jurong point, crazy.. Available only ...        NaN   \n",
              "1   ham                      Ok lar... Joking wif u oni...        NaN   \n",
              "2  spam  Free entry in 2 a wkly comp to win FA Cup fina...        NaN   \n",
              "3   ham  U dun say so early hor... U c already then say...        NaN   \n",
              "4   ham  Nah I don't think he goes to usf, he lives aro...        NaN   \n",
              "\n",
              "  Unnamed: 3 Unnamed: 4  \n",
              "0        NaN        NaN  \n",
              "1        NaN        NaN  \n",
              "2        NaN        NaN  \n",
              "3        NaN        NaN  \n",
              "4        NaN        NaN  "
            ],
            "text/html": [
              "\n",
              "  <div id=\"df-e4dc6d9f-a795-4508-b92f-8ddd29f5600a\">\n",
              "    <div class=\"colab-df-container\">\n",
              "      <div>\n",
              "<style scoped>\n",
              "    .dataframe tbody tr th:only-of-type {\n",
              "        vertical-align: middle;\n",
              "    }\n",
              "\n",
              "    .dataframe tbody tr th {\n",
              "        vertical-align: top;\n",
              "    }\n",
              "\n",
              "    .dataframe thead th {\n",
              "        text-align: right;\n",
              "    }\n",
              "</style>\n",
              "<table border=\"1\" class=\"dataframe\">\n",
              "  <thead>\n",
              "    <tr style=\"text-align: right;\">\n",
              "      <th></th>\n",
              "      <th>v1</th>\n",
              "      <th>v2</th>\n",
              "      <th>Unnamed: 2</th>\n",
              "      <th>Unnamed: 3</th>\n",
              "      <th>Unnamed: 4</th>\n",
              "    </tr>\n",
              "  </thead>\n",
              "  <tbody>\n",
              "    <tr>\n",
              "      <th>0</th>\n",
              "      <td>ham</td>\n",
              "      <td>Go until jurong point, crazy.. Available only ...</td>\n",
              "      <td>NaN</td>\n",
              "      <td>NaN</td>\n",
              "      <td>NaN</td>\n",
              "    </tr>\n",
              "    <tr>\n",
              "      <th>1</th>\n",
              "      <td>ham</td>\n",
              "      <td>Ok lar... Joking wif u oni...</td>\n",
              "      <td>NaN</td>\n",
              "      <td>NaN</td>\n",
              "      <td>NaN</td>\n",
              "    </tr>\n",
              "    <tr>\n",
              "      <th>2</th>\n",
              "      <td>spam</td>\n",
              "      <td>Free entry in 2 a wkly comp to win FA Cup fina...</td>\n",
              "      <td>NaN</td>\n",
              "      <td>NaN</td>\n",
              "      <td>NaN</td>\n",
              "    </tr>\n",
              "    <tr>\n",
              "      <th>3</th>\n",
              "      <td>ham</td>\n",
              "      <td>U dun say so early hor... U c already then say...</td>\n",
              "      <td>NaN</td>\n",
              "      <td>NaN</td>\n",
              "      <td>NaN</td>\n",
              "    </tr>\n",
              "    <tr>\n",
              "      <th>4</th>\n",
              "      <td>ham</td>\n",
              "      <td>Nah I don't think he goes to usf, he lives aro...</td>\n",
              "      <td>NaN</td>\n",
              "      <td>NaN</td>\n",
              "      <td>NaN</td>\n",
              "    </tr>\n",
              "  </tbody>\n",
              "</table>\n",
              "</div>\n",
              "      <button class=\"colab-df-convert\" onclick=\"convertToInteractive('df-e4dc6d9f-a795-4508-b92f-8ddd29f5600a')\"\n",
              "              title=\"Convert this dataframe to an interactive table.\"\n",
              "              style=\"display:none;\">\n",
              "        \n",
              "  <svg xmlns=\"http://www.w3.org/2000/svg\" height=\"24px\"viewBox=\"0 0 24 24\"\n",
              "       width=\"24px\">\n",
              "    <path d=\"M0 0h24v24H0V0z\" fill=\"none\"/>\n",
              "    <path d=\"M18.56 5.44l.94 2.06.94-2.06 2.06-.94-2.06-.94-.94-2.06-.94 2.06-2.06.94zm-11 1L8.5 8.5l.94-2.06 2.06-.94-2.06-.94L8.5 2.5l-.94 2.06-2.06.94zm10 10l.94 2.06.94-2.06 2.06-.94-2.06-.94-.94-2.06-.94 2.06-2.06.94z\"/><path d=\"M17.41 7.96l-1.37-1.37c-.4-.4-.92-.59-1.43-.59-.52 0-1.04.2-1.43.59L10.3 9.45l-7.72 7.72c-.78.78-.78 2.05 0 2.83L4 21.41c.39.39.9.59 1.41.59.51 0 1.02-.2 1.41-.59l7.78-7.78 2.81-2.81c.8-.78.8-2.07 0-2.86zM5.41 20L4 18.59l7.72-7.72 1.47 1.35L5.41 20z\"/>\n",
              "  </svg>\n",
              "      </button>\n",
              "      \n",
              "  <style>\n",
              "    .colab-df-container {\n",
              "      display:flex;\n",
              "      flex-wrap:wrap;\n",
              "      gap: 12px;\n",
              "    }\n",
              "\n",
              "    .colab-df-convert {\n",
              "      background-color: #E8F0FE;\n",
              "      border: none;\n",
              "      border-radius: 50%;\n",
              "      cursor: pointer;\n",
              "      display: none;\n",
              "      fill: #1967D2;\n",
              "      height: 32px;\n",
              "      padding: 0 0 0 0;\n",
              "      width: 32px;\n",
              "    }\n",
              "\n",
              "    .colab-df-convert:hover {\n",
              "      background-color: #E2EBFA;\n",
              "      box-shadow: 0px 1px 2px rgba(60, 64, 67, 0.3), 0px 1px 3px 1px rgba(60, 64, 67, 0.15);\n",
              "      fill: #174EA6;\n",
              "    }\n",
              "\n",
              "    [theme=dark] .colab-df-convert {\n",
              "      background-color: #3B4455;\n",
              "      fill: #D2E3FC;\n",
              "    }\n",
              "\n",
              "    [theme=dark] .colab-df-convert:hover {\n",
              "      background-color: #434B5C;\n",
              "      box-shadow: 0px 1px 3px 1px rgba(0, 0, 0, 0.15);\n",
              "      filter: drop-shadow(0px 1px 2px rgba(0, 0, 0, 0.3));\n",
              "      fill: #FFFFFF;\n",
              "    }\n",
              "  </style>\n",
              "\n",
              "      <script>\n",
              "        const buttonEl =\n",
              "          document.querySelector('#df-e4dc6d9f-a795-4508-b92f-8ddd29f5600a button.colab-df-convert');\n",
              "        buttonEl.style.display =\n",
              "          google.colab.kernel.accessAllowed ? 'block' : 'none';\n",
              "\n",
              "        async function convertToInteractive(key) {\n",
              "          const element = document.querySelector('#df-e4dc6d9f-a795-4508-b92f-8ddd29f5600a');\n",
              "          const dataTable =\n",
              "            await google.colab.kernel.invokeFunction('convertToInteractive',\n",
              "                                                     [key], {});\n",
              "          if (!dataTable) return;\n",
              "\n",
              "          const docLinkHtml = 'Like what you see? Visit the ' +\n",
              "            '<a target=\"_blank\" href=https://colab.research.google.com/notebooks/data_table.ipynb>data table notebook</a>'\n",
              "            + ' to learn more about interactive tables.';\n",
              "          element.innerHTML = '';\n",
              "          dataTable['output_type'] = 'display_data';\n",
              "          await google.colab.output.renderOutput(dataTable, element);\n",
              "          const docLink = document.createElement('div');\n",
              "          docLink.innerHTML = docLinkHtml;\n",
              "          element.appendChild(docLink);\n",
              "        }\n",
              "      </script>\n",
              "    </div>\n",
              "  </div>\n",
              "  "
            ]
          },
          "metadata": {},
          "execution_count": 32
        }
      ]
    },
    {
      "cell_type": "code",
      "source": [
        "train = train[['v1', 'v2']]\n",
        "\n",
        "col_dict = {'v1': 'labels', 'v2':'Text'}\n",
        "train = train.rename(col_dict, axis=1)\n",
        "\n",
        "train.head()"
      ],
      "metadata": {
        "colab": {
          "base_uri": "https://localhost:8080/",
          "height": 206
        },
        "id": "Re9IjLYVadvk",
        "outputId": "53e8ae63-4156-4405-91aa-8c4ce74f5385"
      },
      "execution_count": 33,
      "outputs": [
        {
          "output_type": "execute_result",
          "data": {
            "text/plain": [
              "  labels                                               Text\n",
              "0    ham  Go until jurong point, crazy.. Available only ...\n",
              "1    ham                      Ok lar... Joking wif u oni...\n",
              "2   spam  Free entry in 2 a wkly comp to win FA Cup fina...\n",
              "3    ham  U dun say so early hor... U c already then say...\n",
              "4    ham  Nah I don't think he goes to usf, he lives aro..."
            ],
            "text/html": [
              "\n",
              "  <div id=\"df-29502be5-277d-42b1-a94e-6a578d50e7bb\">\n",
              "    <div class=\"colab-df-container\">\n",
              "      <div>\n",
              "<style scoped>\n",
              "    .dataframe tbody tr th:only-of-type {\n",
              "        vertical-align: middle;\n",
              "    }\n",
              "\n",
              "    .dataframe tbody tr th {\n",
              "        vertical-align: top;\n",
              "    }\n",
              "\n",
              "    .dataframe thead th {\n",
              "        text-align: right;\n",
              "    }\n",
              "</style>\n",
              "<table border=\"1\" class=\"dataframe\">\n",
              "  <thead>\n",
              "    <tr style=\"text-align: right;\">\n",
              "      <th></th>\n",
              "      <th>labels</th>\n",
              "      <th>Text</th>\n",
              "    </tr>\n",
              "  </thead>\n",
              "  <tbody>\n",
              "    <tr>\n",
              "      <th>0</th>\n",
              "      <td>ham</td>\n",
              "      <td>Go until jurong point, crazy.. Available only ...</td>\n",
              "    </tr>\n",
              "    <tr>\n",
              "      <th>1</th>\n",
              "      <td>ham</td>\n",
              "      <td>Ok lar... Joking wif u oni...</td>\n",
              "    </tr>\n",
              "    <tr>\n",
              "      <th>2</th>\n",
              "      <td>spam</td>\n",
              "      <td>Free entry in 2 a wkly comp to win FA Cup fina...</td>\n",
              "    </tr>\n",
              "    <tr>\n",
              "      <th>3</th>\n",
              "      <td>ham</td>\n",
              "      <td>U dun say so early hor... U c already then say...</td>\n",
              "    </tr>\n",
              "    <tr>\n",
              "      <th>4</th>\n",
              "      <td>ham</td>\n",
              "      <td>Nah I don't think he goes to usf, he lives aro...</td>\n",
              "    </tr>\n",
              "  </tbody>\n",
              "</table>\n",
              "</div>\n",
              "      <button class=\"colab-df-convert\" onclick=\"convertToInteractive('df-29502be5-277d-42b1-a94e-6a578d50e7bb')\"\n",
              "              title=\"Convert this dataframe to an interactive table.\"\n",
              "              style=\"display:none;\">\n",
              "        \n",
              "  <svg xmlns=\"http://www.w3.org/2000/svg\" height=\"24px\"viewBox=\"0 0 24 24\"\n",
              "       width=\"24px\">\n",
              "    <path d=\"M0 0h24v24H0V0z\" fill=\"none\"/>\n",
              "    <path d=\"M18.56 5.44l.94 2.06.94-2.06 2.06-.94-2.06-.94-.94-2.06-.94 2.06-2.06.94zm-11 1L8.5 8.5l.94-2.06 2.06-.94-2.06-.94L8.5 2.5l-.94 2.06-2.06.94zm10 10l.94 2.06.94-2.06 2.06-.94-2.06-.94-.94-2.06-.94 2.06-2.06.94z\"/><path d=\"M17.41 7.96l-1.37-1.37c-.4-.4-.92-.59-1.43-.59-.52 0-1.04.2-1.43.59L10.3 9.45l-7.72 7.72c-.78.78-.78 2.05 0 2.83L4 21.41c.39.39.9.59 1.41.59.51 0 1.02-.2 1.41-.59l7.78-7.78 2.81-2.81c.8-.78.8-2.07 0-2.86zM5.41 20L4 18.59l7.72-7.72 1.47 1.35L5.41 20z\"/>\n",
              "  </svg>\n",
              "      </button>\n",
              "      \n",
              "  <style>\n",
              "    .colab-df-container {\n",
              "      display:flex;\n",
              "      flex-wrap:wrap;\n",
              "      gap: 12px;\n",
              "    }\n",
              "\n",
              "    .colab-df-convert {\n",
              "      background-color: #E8F0FE;\n",
              "      border: none;\n",
              "      border-radius: 50%;\n",
              "      cursor: pointer;\n",
              "      display: none;\n",
              "      fill: #1967D2;\n",
              "      height: 32px;\n",
              "      padding: 0 0 0 0;\n",
              "      width: 32px;\n",
              "    }\n",
              "\n",
              "    .colab-df-convert:hover {\n",
              "      background-color: #E2EBFA;\n",
              "      box-shadow: 0px 1px 2px rgba(60, 64, 67, 0.3), 0px 1px 3px 1px rgba(60, 64, 67, 0.15);\n",
              "      fill: #174EA6;\n",
              "    }\n",
              "\n",
              "    [theme=dark] .colab-df-convert {\n",
              "      background-color: #3B4455;\n",
              "      fill: #D2E3FC;\n",
              "    }\n",
              "\n",
              "    [theme=dark] .colab-df-convert:hover {\n",
              "      background-color: #434B5C;\n",
              "      box-shadow: 0px 1px 3px 1px rgba(0, 0, 0, 0.15);\n",
              "      filter: drop-shadow(0px 1px 2px rgba(0, 0, 0, 0.3));\n",
              "      fill: #FFFFFF;\n",
              "    }\n",
              "  </style>\n",
              "\n",
              "      <script>\n",
              "        const buttonEl =\n",
              "          document.querySelector('#df-29502be5-277d-42b1-a94e-6a578d50e7bb button.colab-df-convert');\n",
              "        buttonEl.style.display =\n",
              "          google.colab.kernel.accessAllowed ? 'block' : 'none';\n",
              "\n",
              "        async function convertToInteractive(key) {\n",
              "          const element = document.querySelector('#df-29502be5-277d-42b1-a94e-6a578d50e7bb');\n",
              "          const dataTable =\n",
              "            await google.colab.kernel.invokeFunction('convertToInteractive',\n",
              "                                                     [key], {});\n",
              "          if (!dataTable) return;\n",
              "\n",
              "          const docLinkHtml = 'Like what you see? Visit the ' +\n",
              "            '<a target=\"_blank\" href=https://colab.research.google.com/notebooks/data_table.ipynb>data table notebook</a>'\n",
              "            + ' to learn more about interactive tables.';\n",
              "          element.innerHTML = '';\n",
              "          dataTable['output_type'] = 'display_data';\n",
              "          await google.colab.output.renderOutput(dataTable, element);\n",
              "          const docLink = document.createElement('div');\n",
              "          docLink.innerHTML = docLinkHtml;\n",
              "          element.appendChild(docLink);\n",
              "        }\n",
              "      </script>\n",
              "    </div>\n",
              "  </div>\n",
              "  "
            ]
          },
          "metadata": {},
          "execution_count": 33
        }
      ]
    },
    {
      "cell_type": "code",
      "source": [
        "train['labels'].value_counts()"
      ],
      "metadata": {
        "colab": {
          "base_uri": "https://localhost:8080/"
        },
        "id": "qZS7myFhf7cD",
        "outputId": "93af7be6-08c8-4288-c3f1-7102a9885de4"
      },
      "execution_count": 34,
      "outputs": [
        {
          "output_type": "execute_result",
          "data": {
            "text/plain": [
              "ham     4825\n",
              "spam     747\n",
              "Name: labels, dtype: int64"
            ]
          },
          "metadata": {},
          "execution_count": 34
        }
      ]
    },
    {
      "cell_type": "code",
      "source": [
        "df_ham = train[train['labels'] == 'ham']\n",
        "df_spam = train[train['labels'] == 'spam']\n",
        "\n",
        "print(df_ham.shape, df_spam.shape)"
      ],
      "metadata": {
        "colab": {
          "base_uri": "https://localhost:8080/"
        },
        "id": "Xt0PlCjPgPak",
        "outputId": "fabfce08-70c5-4529-909d-60b98fee846b"
      },
      "execution_count": 35,
      "outputs": [
        {
          "output_type": "stream",
          "name": "stdout",
          "text": [
            "(4825, 2) (747, 2)\n"
          ]
        }
      ]
    },
    {
      "cell_type": "code",
      "source": [
        "df_ham = df_ham.sample(df_spam.shape[0])\n",
        "print(df_ham.shape, df_spam.shape)"
      ],
      "metadata": {
        "colab": {
          "base_uri": "https://localhost:8080/"
        },
        "id": "pRryRa0Ugi4U",
        "outputId": "dbd55154-a734-4c0c-edbb-a43f4efde11b"
      },
      "execution_count": 36,
      "outputs": [
        {
          "output_type": "stream",
          "name": "stdout",
          "text": [
            "(747, 2) (747, 2)\n"
          ]
        }
      ]
    },
    {
      "cell_type": "code",
      "source": [
        "train = pd.concat([df_ham, df_spam])\n",
        "train['labels'].value_counts()"
      ],
      "metadata": {
        "colab": {
          "base_uri": "https://localhost:8080/"
        },
        "id": "bWZIlkWogoYz",
        "outputId": "499de121-56cf-4a70-fc9a-0cb28e741e25"
      },
      "execution_count": 37,
      "outputs": [
        {
          "output_type": "execute_result",
          "data": {
            "text/plain": [
              "ham     747\n",
              "spam    747\n",
              "Name: labels, dtype: int64"
            ]
          },
          "metadata": {},
          "execution_count": 37
        }
      ]
    },
    {
      "cell_type": "markdown",
      "source": [
        "* Not a good idea to downsmaple - but just for quick implementation have done brutforce downsampling"
      ],
      "metadata": {
        "id": "saqmSB3Eg07U"
      }
    },
    {
      "cell_type": "code",
      "source": [
        "train['spam'] = train['labels'].apply(lambda x: 1 if x == 'spam' else 0)\n",
        "train['spam'].value_counts()"
      ],
      "metadata": {
        "colab": {
          "base_uri": "https://localhost:8080/"
        },
        "id": "Cx2glFgnguUL",
        "outputId": "07d2d669-a2fe-4d18-e82f-9ef968a1a714"
      },
      "execution_count": 38,
      "outputs": [
        {
          "output_type": "execute_result",
          "data": {
            "text/plain": [
              "0    747\n",
              "1    747\n",
              "Name: spam, dtype: int64"
            ]
          },
          "metadata": {},
          "execution_count": 38
        }
      ]
    },
    {
      "cell_type": "code",
      "source": [
        "train.tail()"
      ],
      "metadata": {
        "colab": {
          "base_uri": "https://localhost:8080/",
          "height": 206
        },
        "id": "M4jaa7FThVej",
        "outputId": "2b4b5a7a-62b6-43a5-cff1-3ccc9c543310"
      },
      "execution_count": 39,
      "outputs": [
        {
          "output_type": "execute_result",
          "data": {
            "text/plain": [
              "     labels                                               Text  spam\n",
              "5537   spam  Want explicit SEX in 30 secs? Ring 02073162414...     1\n",
              "5540   spam  ASKED 3MOBILE IF 0870 CHATLINES INCLU IN FREE ...     1\n",
              "5547   spam  Had your contract mobile 11 Mnths? Latest Moto...     1\n",
              "5566   spam  REMINDER FROM O2: To get 2.50 pounds free call...     1\n",
              "5567   spam  This is the 2nd time we have tried 2 contact u...     1"
            ],
            "text/html": [
              "\n",
              "  <div id=\"df-20b8606e-2884-4db4-ab4f-730299344215\">\n",
              "    <div class=\"colab-df-container\">\n",
              "      <div>\n",
              "<style scoped>\n",
              "    .dataframe tbody tr th:only-of-type {\n",
              "        vertical-align: middle;\n",
              "    }\n",
              "\n",
              "    .dataframe tbody tr th {\n",
              "        vertical-align: top;\n",
              "    }\n",
              "\n",
              "    .dataframe thead th {\n",
              "        text-align: right;\n",
              "    }\n",
              "</style>\n",
              "<table border=\"1\" class=\"dataframe\">\n",
              "  <thead>\n",
              "    <tr style=\"text-align: right;\">\n",
              "      <th></th>\n",
              "      <th>labels</th>\n",
              "      <th>Text</th>\n",
              "      <th>spam</th>\n",
              "    </tr>\n",
              "  </thead>\n",
              "  <tbody>\n",
              "    <tr>\n",
              "      <th>5537</th>\n",
              "      <td>spam</td>\n",
              "      <td>Want explicit SEX in 30 secs? Ring 02073162414...</td>\n",
              "      <td>1</td>\n",
              "    </tr>\n",
              "    <tr>\n",
              "      <th>5540</th>\n",
              "      <td>spam</td>\n",
              "      <td>ASKED 3MOBILE IF 0870 CHATLINES INCLU IN FREE ...</td>\n",
              "      <td>1</td>\n",
              "    </tr>\n",
              "    <tr>\n",
              "      <th>5547</th>\n",
              "      <td>spam</td>\n",
              "      <td>Had your contract mobile 11 Mnths? Latest Moto...</td>\n",
              "      <td>1</td>\n",
              "    </tr>\n",
              "    <tr>\n",
              "      <th>5566</th>\n",
              "      <td>spam</td>\n",
              "      <td>REMINDER FROM O2: To get 2.50 pounds free call...</td>\n",
              "      <td>1</td>\n",
              "    </tr>\n",
              "    <tr>\n",
              "      <th>5567</th>\n",
              "      <td>spam</td>\n",
              "      <td>This is the 2nd time we have tried 2 contact u...</td>\n",
              "      <td>1</td>\n",
              "    </tr>\n",
              "  </tbody>\n",
              "</table>\n",
              "</div>\n",
              "      <button class=\"colab-df-convert\" onclick=\"convertToInteractive('df-20b8606e-2884-4db4-ab4f-730299344215')\"\n",
              "              title=\"Convert this dataframe to an interactive table.\"\n",
              "              style=\"display:none;\">\n",
              "        \n",
              "  <svg xmlns=\"http://www.w3.org/2000/svg\" height=\"24px\"viewBox=\"0 0 24 24\"\n",
              "       width=\"24px\">\n",
              "    <path d=\"M0 0h24v24H0V0z\" fill=\"none\"/>\n",
              "    <path d=\"M18.56 5.44l.94 2.06.94-2.06 2.06-.94-2.06-.94-.94-2.06-.94 2.06-2.06.94zm-11 1L8.5 8.5l.94-2.06 2.06-.94-2.06-.94L8.5 2.5l-.94 2.06-2.06.94zm10 10l.94 2.06.94-2.06 2.06-.94-2.06-.94-.94-2.06-.94 2.06-2.06.94z\"/><path d=\"M17.41 7.96l-1.37-1.37c-.4-.4-.92-.59-1.43-.59-.52 0-1.04.2-1.43.59L10.3 9.45l-7.72 7.72c-.78.78-.78 2.05 0 2.83L4 21.41c.39.39.9.59 1.41.59.51 0 1.02-.2 1.41-.59l7.78-7.78 2.81-2.81c.8-.78.8-2.07 0-2.86zM5.41 20L4 18.59l7.72-7.72 1.47 1.35L5.41 20z\"/>\n",
              "  </svg>\n",
              "      </button>\n",
              "      \n",
              "  <style>\n",
              "    .colab-df-container {\n",
              "      display:flex;\n",
              "      flex-wrap:wrap;\n",
              "      gap: 12px;\n",
              "    }\n",
              "\n",
              "    .colab-df-convert {\n",
              "      background-color: #E8F0FE;\n",
              "      border: none;\n",
              "      border-radius: 50%;\n",
              "      cursor: pointer;\n",
              "      display: none;\n",
              "      fill: #1967D2;\n",
              "      height: 32px;\n",
              "      padding: 0 0 0 0;\n",
              "      width: 32px;\n",
              "    }\n",
              "\n",
              "    .colab-df-convert:hover {\n",
              "      background-color: #E2EBFA;\n",
              "      box-shadow: 0px 1px 2px rgba(60, 64, 67, 0.3), 0px 1px 3px 1px rgba(60, 64, 67, 0.15);\n",
              "      fill: #174EA6;\n",
              "    }\n",
              "\n",
              "    [theme=dark] .colab-df-convert {\n",
              "      background-color: #3B4455;\n",
              "      fill: #D2E3FC;\n",
              "    }\n",
              "\n",
              "    [theme=dark] .colab-df-convert:hover {\n",
              "      background-color: #434B5C;\n",
              "      box-shadow: 0px 1px 3px 1px rgba(0, 0, 0, 0.15);\n",
              "      filter: drop-shadow(0px 1px 2px rgba(0, 0, 0, 0.3));\n",
              "      fill: #FFFFFF;\n",
              "    }\n",
              "  </style>\n",
              "\n",
              "      <script>\n",
              "        const buttonEl =\n",
              "          document.querySelector('#df-20b8606e-2884-4db4-ab4f-730299344215 button.colab-df-convert');\n",
              "        buttonEl.style.display =\n",
              "          google.colab.kernel.accessAllowed ? 'block' : 'none';\n",
              "\n",
              "        async function convertToInteractive(key) {\n",
              "          const element = document.querySelector('#df-20b8606e-2884-4db4-ab4f-730299344215');\n",
              "          const dataTable =\n",
              "            await google.colab.kernel.invokeFunction('convertToInteractive',\n",
              "                                                     [key], {});\n",
              "          if (!dataTable) return;\n",
              "\n",
              "          const docLinkHtml = 'Like what you see? Visit the ' +\n",
              "            '<a target=\"_blank\" href=https://colab.research.google.com/notebooks/data_table.ipynb>data table notebook</a>'\n",
              "            + ' to learn more about interactive tables.';\n",
              "          element.innerHTML = '';\n",
              "          dataTable['output_type'] = 'display_data';\n",
              "          await google.colab.output.renderOutput(dataTable, element);\n",
              "          const docLink = document.createElement('div');\n",
              "          docLink.innerHTML = docLinkHtml;\n",
              "          element.appendChild(docLink);\n",
              "        }\n",
              "      </script>\n",
              "    </div>\n",
              "  </div>\n",
              "  "
            ]
          },
          "metadata": {},
          "execution_count": 39
        }
      ]
    },
    {
      "cell_type": "code",
      "source": [
        "X_train, X_test, y_train, y_test = train_test_split(train['Text'], train['spam'], stratify=train['spam'])\n",
        "print(f\"{X_train.shape, y_train.shape}\")\n",
        "print(f\"{X_test.shape, y_test.shape}\")"
      ],
      "metadata": {
        "colab": {
          "base_uri": "https://localhost:8080/"
        },
        "id": "ebXcMAYmhi0r",
        "outputId": "670a11cd-8dbc-4ab2-aae8-3203771a5942"
      },
      "execution_count": 40,
      "outputs": [
        {
          "output_type": "stream",
          "name": "stdout",
          "text": [
            "((1120,), (1120,))\n",
            "((374,), (374,))\n"
          ]
        }
      ]
    },
    {
      "cell_type": "markdown",
      "source": [
        "Preprocess and model url from tensorflow hub"
      ],
      "metadata": {
        "id": "SeI5FXtG7O6e"
      }
    },
    {
      "cell_type": "code",
      "source": [
        "bert_preprocess = hub.KerasLayer(\"https://tfhub.dev/tensorflow/bert_en_uncased_preprocess/3\")\n",
        "bert_encoder    = hub.KerasLayer(\"https://tfhub.dev/tensorflow/bert_en_uncased_L-12_H-768_A-12/4\")"
      ],
      "metadata": {
        "id": "mQxHXdRBh1m5"
      },
      "execution_count": 41,
      "outputs": []
    },
    {
      "cell_type": "code",
      "source": [
        "text = ['i love sai']\n",
        "e = bert_preprocess(text)\n",
        "e"
      ],
      "metadata": {
        "colab": {
          "base_uri": "https://localhost:8080/"
        },
        "id": "ox7RQl397hGY",
        "outputId": "a58b25dc-5199-478e-8524-ee5e287c3e13"
      },
      "execution_count": 42,
      "outputs": [
        {
          "output_type": "execute_result",
          "data": {
            "text/plain": [
              "{'input_type_ids': <tf.Tensor: shape=(1, 128), dtype=int32, numpy=\n",
              " array([[0, 0, 0, 0, 0, 0, 0, 0, 0, 0, 0, 0, 0, 0, 0, 0, 0, 0, 0, 0, 0, 0,\n",
              "         0, 0, 0, 0, 0, 0, 0, 0, 0, 0, 0, 0, 0, 0, 0, 0, 0, 0, 0, 0, 0, 0,\n",
              "         0, 0, 0, 0, 0, 0, 0, 0, 0, 0, 0, 0, 0, 0, 0, 0, 0, 0, 0, 0, 0, 0,\n",
              "         0, 0, 0, 0, 0, 0, 0, 0, 0, 0, 0, 0, 0, 0, 0, 0, 0, 0, 0, 0, 0, 0,\n",
              "         0, 0, 0, 0, 0, 0, 0, 0, 0, 0, 0, 0, 0, 0, 0, 0, 0, 0, 0, 0, 0, 0,\n",
              "         0, 0, 0, 0, 0, 0, 0, 0, 0, 0, 0, 0, 0, 0, 0, 0, 0, 0]],\n",
              "       dtype=int32)>,\n",
              " 'input_word_ids': <tf.Tensor: shape=(1, 128), dtype=int32, numpy=\n",
              " array([[  101,  1045,  2293, 18952,   102,     0,     0,     0,     0,\n",
              "             0,     0,     0,     0,     0,     0,     0,     0,     0,\n",
              "             0,     0,     0,     0,     0,     0,     0,     0,     0,\n",
              "             0,     0,     0,     0,     0,     0,     0,     0,     0,\n",
              "             0,     0,     0,     0,     0,     0,     0,     0,     0,\n",
              "             0,     0,     0,     0,     0,     0,     0,     0,     0,\n",
              "             0,     0,     0,     0,     0,     0,     0,     0,     0,\n",
              "             0,     0,     0,     0,     0,     0,     0,     0,     0,\n",
              "             0,     0,     0,     0,     0,     0,     0,     0,     0,\n",
              "             0,     0,     0,     0,     0,     0,     0,     0,     0,\n",
              "             0,     0,     0,     0,     0,     0,     0,     0,     0,\n",
              "             0,     0,     0,     0,     0,     0,     0,     0,     0,\n",
              "             0,     0,     0,     0,     0,     0,     0,     0,     0,\n",
              "             0,     0,     0,     0,     0,     0,     0,     0,     0,\n",
              "             0,     0]], dtype=int32)>,\n",
              " 'input_mask': <tf.Tensor: shape=(1, 128), dtype=int32, numpy=\n",
              " array([[1, 1, 1, 1, 1, 0, 0, 0, 0, 0, 0, 0, 0, 0, 0, 0, 0, 0, 0, 0, 0, 0,\n",
              "         0, 0, 0, 0, 0, 0, 0, 0, 0, 0, 0, 0, 0, 0, 0, 0, 0, 0, 0, 0, 0, 0,\n",
              "         0, 0, 0, 0, 0, 0, 0, 0, 0, 0, 0, 0, 0, 0, 0, 0, 0, 0, 0, 0, 0, 0,\n",
              "         0, 0, 0, 0, 0, 0, 0, 0, 0, 0, 0, 0, 0, 0, 0, 0, 0, 0, 0, 0, 0, 0,\n",
              "         0, 0, 0, 0, 0, 0, 0, 0, 0, 0, 0, 0, 0, 0, 0, 0, 0, 0, 0, 0, 0, 0,\n",
              "         0, 0, 0, 0, 0, 0, 0, 0, 0, 0, 0, 0, 0, 0, 0, 0, 0, 0]],\n",
              "       dtype=int32)>}"
            ]
          },
          "metadata": {},
          "execution_count": 42
        }
      ]
    },
    {
      "cell_type": "code",
      "source": [
        "e.keys()"
      ],
      "metadata": {
        "colab": {
          "base_uri": "https://localhost:8080/"
        },
        "id": "QQYaliKe7jum",
        "outputId": "a20b9853-a179-47ff-c897-3ff93c1d0721"
      },
      "execution_count": 44,
      "outputs": [
        {
          "output_type": "execute_result",
          "data": {
            "text/plain": [
              "dict_keys(['input_type_ids', 'input_word_ids', 'input_mask'])"
            ]
          },
          "metadata": {},
          "execution_count": 44
        }
      ]
    },
    {
      "cell_type": "code",
      "source": [
        "def get_sentence_embeddings(sentence):\n",
        "  preprocessed_output = bert_preprocess(sentence)\n",
        "  embeds = bert_encoder(preprocessed_output)\n",
        "  return embeds\n",
        "\n",
        "get_sentence_embeddings([\n",
        "    \"500$ discount. hurry up\", \n",
        "    \"can we play tomorrow\"]\n",
        ")"
      ],
      "metadata": {
        "colab": {
          "base_uri": "https://localhost:8080/"
        },
        "id": "h8tV4qA4_fsS",
        "outputId": "fcdfb402-7ed7-44a9-e686-da3553ae8ea9"
      },
      "execution_count": 46,
      "outputs": [
        {
          "output_type": "execute_result",
          "data": {
            "text/plain": [
              "{'default': <tf.Tensor: shape=(2, 768), dtype=float32, numpy=\n",
              " array([[-0.8435168 , -0.5132726 , -0.8884572 , ..., -0.74748856,\n",
              "         -0.75314736,  0.91964495],\n",
              "        [-0.9198247 , -0.3276891 , -0.29137257, ..., -0.14430751,\n",
              "         -0.71314085,  0.9317897 ]], dtype=float32)>,\n",
              " 'encoder_outputs': [<tf.Tensor: shape=(2, 128, 768), dtype=float32, numpy=\n",
              "  array([[[ 0.00458483,  0.02783404, -0.12029573, ...,  0.25409517,\n",
              "           -0.09419195, -0.09845521],\n",
              "          [ 1.1227233 , -0.30777168, -1.0142773 , ...,  0.13534713,\n",
              "            1.0343854 ,  0.34770805],\n",
              "          [-0.21036682, -0.20707306, -0.7530634 , ...,  0.7503102 ,\n",
              "            1.0195563 ,  0.37875172],\n",
              "          ...,\n",
              "          [-0.09700812, -0.24238297,  0.54475486, ...,  0.29192388,\n",
              "           -0.30374658, -0.05979169],\n",
              "          [-0.18046317, -0.24360123,  0.41981837, ...,  0.3194066 ,\n",
              "           -0.27123314, -0.15537634],\n",
              "          [-0.05397668, -0.18610531,  0.4423007 , ...,  0.62264186,\n",
              "           -0.52400076, -0.19905747]],\n",
              "  \n",
              "         [[ 0.16051811,  0.06753561, -0.09771954, ...,  0.04721642,\n",
              "            0.04532205,  0.04887848],\n",
              "          [ 1.4757402 , -0.5277857 ,  0.6688177 , ..., -0.11893398,\n",
              "            0.36714315, -1.4556738 ],\n",
              "          [-0.6871361 ,  0.7229659 , -1.1384668 , ...,  0.65970635,\n",
              "            1.0609794 , -0.37886626],\n",
              "          ...,\n",
              "          [-0.04560342, -0.1447879 ,  0.6492216 , ...,  0.41097644,\n",
              "           -0.47571674,  0.09202632],\n",
              "          [-0.14286613, -0.16446091,  0.5088755 , ...,  0.44252947,\n",
              "           -0.36508876, -0.00353242],\n",
              "          [-0.0346569 , -0.10269409,  0.5397073 , ...,  0.7795425 ,\n",
              "           -0.6867102 , -0.09404488]]], dtype=float32)>,\n",
              "  <tf.Tensor: shape=(2, 128, 768), dtype=float32, numpy=\n",
              "  array([[[-0.17618044, -0.23950216, -0.35376143, ...,  0.48751122,\n",
              "            0.02583803,  0.04894115],\n",
              "          [ 1.3212459 , -0.05233268, -0.51749194, ..., -0.3716518 ,\n",
              "            1.2486092 ,  0.25317422],\n",
              "          [-0.38543534,  0.06905463, -0.9084127 , ...,  0.54708904,\n",
              "            1.4211676 ,  0.21457769],\n",
              "          ...,\n",
              "          [-0.28998184, -0.5051455 ,  0.78915733, ...,  0.62973154,\n",
              "           -0.4387835 , -0.1635928 ],\n",
              "          [-0.2539565 , -0.47691917,  0.81514555, ...,  0.6580758 ,\n",
              "           -0.47325033, -0.28362966],\n",
              "          [-0.04432099, -0.33666518,  0.76131064, ...,  0.9137228 ,\n",
              "           -0.6205234 , -0.38465515]],\n",
              "  \n",
              "         [[ 0.05783319, -0.11140698, -0.19706059, ...,  0.15598212,\n",
              "            0.13160692,  0.06453257],\n",
              "          [ 1.4790273 , -0.20588526,  1.1111895 , ..., -0.180133  ,\n",
              "            0.57444876, -1.7222744 ],\n",
              "          [-0.41921693,  0.5341296 , -0.5046013 , ...,  0.38089368,\n",
              "            0.8257723 , -0.2866179 ],\n",
              "          ...,\n",
              "          [-0.15445979, -0.03730306,  0.5706093 , ...,  1.0469241 ,\n",
              "           -0.41972667, -0.13894795],\n",
              "          [-0.22622252,  0.0230412 ,  0.5147485 , ...,  1.0329779 ,\n",
              "           -0.40127355, -0.17644244],\n",
              "          [-0.11231057,  0.11124308,  0.5361867 , ...,  1.2646694 ,\n",
              "           -0.56506467, -0.32109216]]], dtype=float32)>,\n",
              "  <tf.Tensor: shape=(2, 128, 768), dtype=float32, numpy=\n",
              "  array([[[-5.93841225e-02, -3.86273265e-01, -1.21636108e-01, ...,\n",
              "            4.65794981e-01,  9.59625393e-02,  1.81616515e-01],\n",
              "          [ 1.36858916e+00, -2.14790836e-01, -2.77628779e-01, ...,\n",
              "           -8.30449536e-02,  1.13900006e+00,  4.73266244e-01],\n",
              "          [-4.85648483e-01,  3.45815942e-02, -1.01724017e+00, ...,\n",
              "            1.32746726e-01,  1.00141227e+00,  3.53965074e-01],\n",
              "          ...,\n",
              "          [-9.52031389e-02, -6.98130786e-01,  9.34427321e-01, ...,\n",
              "            8.20363939e-01,  8.34666006e-03, -3.42848390e-01],\n",
              "          [ 6.14672899e-04, -5.54560781e-01,  8.62636566e-01, ...,\n",
              "            8.27507555e-01, -5.16603291e-02, -4.72194850e-01],\n",
              "          [ 2.01938838e-01, -4.19777870e-01,  8.97357702e-01, ...,\n",
              "            1.01659608e+00, -1.95099056e-01, -4.89205539e-01]],\n",
              "  \n",
              "         [[ 3.62285301e-02, -2.42747396e-01, -9.13588107e-02, ...,\n",
              "            2.86682725e-01,  1.43194288e-01,  1.76876336e-01],\n",
              "          [ 1.22217679e+00, -6.03476644e-01,  1.58608437e+00, ...,\n",
              "           -4.56449389e-02,  3.00472021e-01, -1.64424515e+00],\n",
              "          [ 6.31352365e-02, -1.01539768e-01, -4.73891407e-01, ...,\n",
              "            4.89315361e-01,  3.15697998e-01, -3.34446907e-01],\n",
              "          ...,\n",
              "          [-1.50441080e-02, -1.05102986e-01,  7.62693286e-01, ...,\n",
              "            1.04005969e+00, -4.07910794e-02, -3.83704454e-01],\n",
              "          [-1.41788989e-01, -2.56844014e-02,  6.45345449e-01, ...,\n",
              "            1.03953362e+00, -2.97908671e-02, -4.17142749e-01],\n",
              "          [-4.06002477e-02,  2.46435180e-02,  6.75363660e-01, ...,\n",
              "            1.19279063e+00, -2.71128982e-01, -5.99671066e-01]]],\n",
              "        dtype=float32)>,\n",
              "  <tf.Tensor: shape=(2, 128, 768), dtype=float32, numpy=\n",
              "  array([[[ 0.1298244 , -0.5613816 , -0.58309746, ...,  0.46647915,\n",
              "            0.18961397,  0.5155    ],\n",
              "          [ 1.4262328 , -0.38619   , -0.19443166, ...,  0.34194037,\n",
              "            0.7490374 ,  0.45585886],\n",
              "          [ 0.09329244, -0.26494485, -1.2696664 , ...,  0.8232226 ,\n",
              "            0.63637584,  0.30664298],\n",
              "          ...,\n",
              "          [-0.197391  , -1.061677  ,  0.86499995, ...,  1.0281687 ,\n",
              "           -0.21675213, -0.35894   ],\n",
              "          [-0.22832403, -0.86352444,  0.92366046, ...,  1.0018564 ,\n",
              "           -0.345082  , -0.4217877 ],\n",
              "          [-0.03432916, -0.7461504 ,  0.99735856, ...,  1.1212311 ,\n",
              "           -0.44516063, -0.51627016]],\n",
              "  \n",
              "         [[ 0.3250598 , -0.22506112, -0.41560683, ...,  0.3223959 ,\n",
              "            0.07153409,  0.6374645 ],\n",
              "          [ 1.0881373 , -0.9385895 ,  1.2243537 , ...,  0.3584553 ,\n",
              "           -0.46783388, -0.9157314 ],\n",
              "          [ 0.01452323, -0.6605306 , -0.19701912, ...,  0.4452423 ,\n",
              "            0.41082928, -0.39010802],\n",
              "          ...,\n",
              "          [-0.1538108 , -0.5271294 ,  1.0683645 , ...,  0.96489245,\n",
              "           -0.34886062, -0.30175465],\n",
              "          [-0.27948338, -0.4538284 ,  0.9677642 , ...,  0.9721328 ,\n",
              "           -0.34976122, -0.29606473],\n",
              "          [-0.29975858, -0.45386118,  0.88693964, ...,  0.951593  ,\n",
              "           -0.5373085 , -0.42847505]]], dtype=float32)>,\n",
              "  <tf.Tensor: shape=(2, 128, 768), dtype=float32, numpy=\n",
              "  array([[[-1.53657973e-01, -4.93178099e-01, -3.48590136e-01, ...,\n",
              "           -1.41108148e-02,  1.82548091e-01,  4.54099834e-01],\n",
              "          [ 1.35079324e+00, -5.83566725e-05,  1.00247219e-01, ...,\n",
              "           -9.26916599e-01,  4.83092427e-01,  6.46070123e-01],\n",
              "          [ 6.55424893e-01, -1.72942773e-01, -6.76304221e-01, ...,\n",
              "            6.05831444e-01,  7.44436264e-01,  3.52932006e-01],\n",
              "          ...,\n",
              "          [-1.57272115e-01, -6.06638193e-01,  1.02407467e+00, ...,\n",
              "            5.64056158e-01,  1.00894719e-02, -7.02275157e-01],\n",
              "          [-1.15273446e-01, -4.60187614e-01,  1.12485170e+00, ...,\n",
              "            4.78298724e-01, -1.45513207e-01, -7.52841651e-01],\n",
              "          [ 6.04150593e-02, -4.51797277e-01,  1.15978432e+00, ...,\n",
              "            6.18588805e-01, -2.25473821e-01, -8.49248469e-01]],\n",
              "  \n",
              "         [[ 2.26436630e-01, -2.42185846e-01, -3.85497212e-01, ...,\n",
              "            5.90741709e-02,  7.31299296e-02,  8.37969005e-01],\n",
              "          [ 4.85702455e-01, -1.01275432e+00,  1.34346735e+00, ...,\n",
              "            4.27234620e-01,  4.40326214e-01, -2.53744930e-01],\n",
              "          [-3.89989257e-01, -1.00334799e+00,  2.80940384e-01, ...,\n",
              "            5.38409352e-01,  5.22878990e-02, -6.19855523e-01],\n",
              "          ...,\n",
              "          [ 6.08576275e-02, -5.62347531e-01,  9.23600018e-01, ...,\n",
              "            6.87389255e-01, -5.41816726e-02, -3.53615910e-01],\n",
              "          [ 4.10301238e-02, -5.60012758e-01,  7.71954119e-01, ...,\n",
              "            6.88397229e-01, -9.93350521e-02, -4.01038527e-01],\n",
              "          [-8.38025808e-02, -5.37022114e-01,  7.38362432e-01, ...,\n",
              "            7.16262639e-01, -2.52864718e-01, -5.14208019e-01]]],\n",
              "        dtype=float32)>,\n",
              "  <tf.Tensor: shape=(2, 128, 768), dtype=float32, numpy=\n",
              "  array([[[-0.12283237, -0.75035834, -0.2887277 , ...,  0.07182263,\n",
              "            0.2811795 ,  0.4408235 ],\n",
              "          [ 1.3210437 , -0.30205512,  0.33346134, ..., -0.8714495 ,\n",
              "            0.25977957,  0.5868027 ],\n",
              "          [ 0.879577  , -0.25996545, -0.527071  , ...,  0.34830493,\n",
              "            0.44467986,  0.02126042],\n",
              "          ...,\n",
              "          [-0.29759058, -0.50778866,  1.277788  , ...,  0.6434589 ,\n",
              "           -0.39535594, -0.5684595 ],\n",
              "          [-0.22888729, -0.40293083,  1.3886224 , ...,  0.59679466,\n",
              "           -0.5480499 , -0.5973003 ],\n",
              "          [-0.08883539, -0.45963866,  1.4243836 , ...,  0.65540344,\n",
              "           -0.54844785, -0.7512163 ]],\n",
              "  \n",
              "         [[ 0.363987  , -0.40543383, -0.318038  , ..., -0.1220984 ,\n",
              "           -0.00519286,  0.8584833 ],\n",
              "          [-0.06956736, -1.0706007 ,  0.77300584, ..., -0.12609203,\n",
              "            0.36480722,  0.1144902 ],\n",
              "          [-0.5336654 , -1.1510712 ,  0.44371873, ...,  0.24654064,\n",
              "            0.23890173, -0.68814754],\n",
              "          ...,\n",
              "          [-0.01547002, -0.3428523 ,  1.2608031 , ...,  0.62590975,\n",
              "           -0.16459334, -0.437331  ],\n",
              "          [-0.00830853, -0.3334321 ,  1.0972049 , ...,  0.5719241 ,\n",
              "           -0.17714709, -0.47612858],\n",
              "          [-0.14237937, -0.40675026,  1.0210112 , ...,  0.574086  ,\n",
              "           -0.23120323, -0.5889675 ]]], dtype=float32)>,\n",
              "  <tf.Tensor: shape=(2, 128, 768), dtype=float32, numpy=\n",
              "  array([[[ 0.07925036, -0.7684891 , -0.06040736, ..., -0.32762292,\n",
              "            0.3097238 ,  0.59914494],\n",
              "          [ 1.1295303 , -0.50192404,  0.52546746, ..., -1.0927417 ,\n",
              "            0.41878736,  0.50677466],\n",
              "          [ 0.70223224, -0.05196761, -0.31002918, ...,  0.32152274,\n",
              "            0.4068872 , -0.03798179],\n",
              "          ...,\n",
              "          [-0.00783677, -0.28876328,  1.4028937 , ...,  0.39757603,\n",
              "           -0.28924268, -0.28254086],\n",
              "          [-0.0268889 , -0.16006301,  1.5354263 , ...,  0.43437326,\n",
              "           -0.39937928, -0.3317019 ],\n",
              "          [ 0.21930362, -0.28420228,  1.6942377 , ...,  0.44378352,\n",
              "           -0.3732698 , -0.5398793 ]],\n",
              "  \n",
              "         [[ 0.3113027 , -0.7234756 ,  0.13820897, ..., -0.14576975,\n",
              "            0.2657302 ,  0.5876687 ],\n",
              "          [ 0.09653811, -1.0795703 ,  0.80659807, ..., -0.27800375,\n",
              "            0.53007364, -0.2016232 ],\n",
              "          [-0.3140998 , -1.3165781 , -0.0157453 , ...,  0.01556589,\n",
              "            0.89651126, -1.007789  ],\n",
              "          ...,\n",
              "          [ 0.23577447, -0.30898464,  1.4450517 , ...,  0.862818  ,\n",
              "            0.02901409, -0.29625443],\n",
              "          [ 0.21270947, -0.30943573,  1.3329774 , ...,  0.81947684,\n",
              "            0.02727184, -0.3685152 ],\n",
              "          [ 0.01964153, -0.47674692,  1.2719452 , ...,  0.7610753 ,\n",
              "           -0.01372374, -0.47187853]]], dtype=float32)>,\n",
              "  <tf.Tensor: shape=(2, 128, 768), dtype=float32, numpy=\n",
              "  array([[[ 0.08167695, -0.49006042, -0.2289231 , ..., -0.7549022 ,\n",
              "            0.11118427,  0.7562228 ],\n",
              "          [ 1.135969  , -0.8856812 ,  0.6398902 , ..., -0.93967515,\n",
              "            0.65827113,  0.56195897],\n",
              "          [ 0.87386745, -0.2908364 , -0.18889576, ...,  0.22558248,\n",
              "            0.34652063, -0.0324756 ],\n",
              "          ...,\n",
              "          [-0.09055888, -0.2756518 ,  1.4580032 , ...,  0.20512444,\n",
              "           -0.4501863 , -0.11755258],\n",
              "          [-0.02484496, -0.1759494 ,  1.6877156 , ...,  0.30677512,\n",
              "           -0.5234023 , -0.22286302],\n",
              "          [ 0.32135925, -0.309269  ,  1.8151364 , ...,  0.30082935,\n",
              "           -0.38720688, -0.4601761 ]],\n",
              "  \n",
              "         [[ 0.45677733, -0.9136654 ,  0.15746298, ..., -0.4207874 ,\n",
              "            0.14128798,  0.6862114 ],\n",
              "          [ 0.6049662 , -1.2926649 ,  0.6174474 , ..., -0.19511864,\n",
              "            0.18924287,  0.19488221],\n",
              "          [ 0.37134248, -1.1182089 , -0.12353693, ...,  0.10967419,\n",
              "            1.3523602 , -0.83086467],\n",
              "          ...,\n",
              "          [ 0.48047122, -0.25243473,  1.7437607 , ...,  0.8956534 ,\n",
              "           -0.10546245, -0.23985569],\n",
              "          [ 0.5346659 , -0.27769002,  1.6998246 , ...,  0.8699578 ,\n",
              "           -0.11174123, -0.29592082],\n",
              "          [ 0.35010067, -0.4935448 ,  1.6014141 , ...,  0.68051374,\n",
              "           -0.14032775, -0.4151453 ]]], dtype=float32)>,\n",
              "  <tf.Tensor: shape=(2, 128, 768), dtype=float32, numpy=\n",
              "  array([[[-0.1162761 , -0.5024779 , -0.43099487, ..., -0.2604426 ,\n",
              "            0.22468229,  0.50226086],\n",
              "          [ 0.89061904, -1.2965016 ,  0.9049927 , ..., -0.7032723 ,\n",
              "            1.0573697 ,  0.43718222],\n",
              "          [ 0.35346243, -0.43041044, -0.00702579, ...,  0.3851722 ,\n",
              "            0.38742015, -0.41216713],\n",
              "          ...,\n",
              "          [-0.25297958, -0.08493036,  0.5608196 , ..., -0.17397977,\n",
              "           -0.5709864 , -0.15788698],\n",
              "          [-0.1274439 , -0.02285452,  1.037549  , ...,  0.02691935,\n",
              "           -0.5678259 , -0.17886306],\n",
              "          [ 0.3269648 , -0.21550691,  1.3022449 , ...,  0.07727787,\n",
              "           -0.31874833, -0.45025185]],\n",
              "  \n",
              "         [[ 0.5914454 , -0.6088744 ,  0.11242388, ..., -0.26199728,\n",
              "            0.08522175,  0.528165  ],\n",
              "          [ 0.5658096 , -1.4075121 ,  0.97986007, ..., -0.57021505,\n",
              "            0.2249879 ,  0.16534981],\n",
              "          [ 0.7312752 , -1.1355041 , -0.0179603 , ...,  0.2953873 ,\n",
              "            0.9873423 , -0.51179403],\n",
              "          ...,\n",
              "          [ 0.65520966,  0.04587603,  1.5982114 , ...,  1.051489  ,\n",
              "            0.11450559, -0.11155427],\n",
              "          [ 0.74466264,  0.0564473 ,  1.6981196 , ...,  1.0888978 ,\n",
              "            0.11064984, -0.12884775],\n",
              "          [ 0.5118404 , -0.36741313,  1.7329125 , ...,  0.77147335,\n",
              "            0.09991992, -0.16770458]]], dtype=float32)>,\n",
              "  <tf.Tensor: shape=(2, 128, 768), dtype=float32, numpy=\n",
              "  array([[[-0.36402228, -0.74833333, -0.13627999, ..., -0.28716755,\n",
              "           -0.2519467 ,  0.24295765],\n",
              "          [ 1.235656  , -1.5103965 ,  1.0432082 , ..., -1.0162611 ,\n",
              "            0.7336459 ,  0.17495571],\n",
              "          [ 0.2421908 , -0.8771288 ,  0.36514267, ...,  0.31824315,\n",
              "            0.37808964, -0.7898853 ],\n",
              "          ...,\n",
              "          [-0.49523062, -0.61625403,  0.9802502 , ...,  0.11158475,\n",
              "           -0.74360955, -0.6643398 ],\n",
              "          [-0.2948636 , -0.4320643 ,  1.2936041 , ...,  0.15927374,\n",
              "           -0.75442415, -0.7172457 ],\n",
              "          [ 0.13708499, -0.43345678,  1.4394267 , ...,  0.02208418,\n",
              "           -0.7527338 , -0.82946265]],\n",
              "  \n",
              "         [[ 0.39801925, -0.85682815,  0.5281098 , ..., -0.44760334,\n",
              "           -0.60607463,  0.4087542 ],\n",
              "          [ 0.25671005, -2.2901096 ,  1.021062  , ..., -0.08840814,\n",
              "            0.03988081, -0.5721221 ],\n",
              "          [ 0.3877873 , -1.3268952 ,  0.42314523, ..., -0.02267491,\n",
              "            0.58695877, -0.6841841 ],\n",
              "          ...,\n",
              "          [ 0.36584067, -0.08925141,  1.4195306 , ...,  0.9045217 ,\n",
              "           -0.2332963 , -0.19368643],\n",
              "          [ 0.4806434 , -0.01552034,  1.5174246 , ...,  0.92901057,\n",
              "           -0.250792  , -0.18323055],\n",
              "          [ 0.39749292, -0.47047076,  1.566347  , ...,  0.6662286 ,\n",
              "           -0.17315501, -0.19130802]]], dtype=float32)>,\n",
              "  <tf.Tensor: shape=(2, 128, 768), dtype=float32, numpy=\n",
              "  array([[[-7.33084381e-02, -3.46908927e-01,  3.18927020e-02, ...,\n",
              "           -3.72778893e-01, -5.09748816e-01,  2.18860716e-01],\n",
              "          [ 1.73283648e+00, -8.30503821e-01,  4.46426570e-01, ...,\n",
              "           -1.27540004e+00,  1.87891692e-01,  3.19764197e-01],\n",
              "          [ 5.91573536e-01, -4.87840980e-01,  3.22166443e-01, ...,\n",
              "            3.11253011e-01,  2.12404534e-01, -2.94761539e-01],\n",
              "          ...,\n",
              "          [-2.30454102e-01, -6.45115554e-01,  1.02663267e+00, ...,\n",
              "            3.07862815e-02, -8.33596051e-01, -8.42917264e-01],\n",
              "          [-6.33779913e-02, -5.29246330e-01,  1.26129758e+00, ...,\n",
              "           -1.32024754e-03, -9.30473626e-01, -7.65896916e-01],\n",
              "          [ 3.31493884e-01, -4.96846318e-01,  1.30521297e+00, ...,\n",
              "           -1.96204633e-01, -1.18729496e+00, -7.78331101e-01]],\n",
              "  \n",
              "         [[ 6.34176373e-01, -9.19264317e-01,  6.12406850e-01, ...,\n",
              "           -5.98822117e-01, -4.81977880e-01, -1.12167716e-01],\n",
              "          [ 3.45755577e-01, -1.92178130e+00,  1.02102578e+00, ...,\n",
              "            9.20234770e-02, -5.06934486e-02, -7.19206989e-01],\n",
              "          [ 2.09222734e-01, -1.29049754e+00,  5.51811039e-01, ...,\n",
              "            9.28038061e-02,  3.58902574e-01, -8.30831826e-01],\n",
              "          ...,\n",
              "          [ 8.03036869e-01, -5.54634392e-01,  1.15088964e+00, ...,\n",
              "            4.75888073e-01, -4.65248138e-01, -2.30341539e-01],\n",
              "          [ 8.53735626e-01, -4.43174064e-01,  1.26290703e+00, ...,\n",
              "            4.45671350e-01, -4.83927846e-01, -1.90030903e-01],\n",
              "          [ 6.98000431e-01, -7.94829905e-01,  1.37918425e+00, ...,\n",
              "            1.47202596e-01, -4.32897478e-01, -2.58470535e-01]]],\n",
              "        dtype=float32)>,\n",
              "  <tf.Tensor: shape=(2, 128, 768), dtype=float32, numpy=\n",
              "  array([[[-0.01947645, -0.16364068,  0.03249357, ..., -0.32246357,\n",
              "           -0.10321553,  0.27680674],\n",
              "          [ 0.8360975 , -0.42576903, -0.07546757, ..., -0.12131806,\n",
              "            0.70818347,  0.17979656],\n",
              "          [ 0.46575475, -0.3540932 ,  0.48913813, ...,  0.6902977 ,\n",
              "            0.03883436, -0.11570998],\n",
              "          ...,\n",
              "          [ 0.03398634, -0.5670009 ,  0.539082  , ...,  0.27371025,\n",
              "           -0.08995806, -0.28678426],\n",
              "          [ 0.08962552, -0.45080197,  0.6008092 , ...,  0.21469589,\n",
              "           -0.13585845, -0.23718402],\n",
              "          [ 0.2199311 , -0.40693924,  0.59237266, ...,  0.15673628,\n",
              "           -0.21479625, -0.31792015]],\n",
              "  \n",
              "         [[ 0.19163266, -0.08432709,  0.138228  , ..., -0.29006705,\n",
              "            0.25109315,  0.20184518],\n",
              "          [ 0.30586958, -1.1486671 ,  0.52662516, ...,  0.03497126,\n",
              "           -0.03485549, -0.48570287],\n",
              "          [ 0.20420334, -0.6211743 ,  0.8119651 , ..., -0.05536687,\n",
              "            0.26515067, -0.902179  ],\n",
              "          ...,\n",
              "          [ 0.33268562, -0.1544872 ,  0.51649547, ...,  0.26458636,\n",
              "           -0.08252367, -0.02475262],\n",
              "          [ 0.33651564, -0.10786532,  0.56990737, ...,  0.22929925,\n",
              "           -0.09860706,  0.01515379],\n",
              "          [ 0.28770292, -0.24524891,  0.572879  , ...,  0.11910842,\n",
              "           -0.08280353,  0.01280247]]], dtype=float32)>],\n",
              " 'pooled_output': <tf.Tensor: shape=(2, 768), dtype=float32, numpy=\n",
              " array([[-0.8435168 , -0.5132726 , -0.8884572 , ..., -0.74748856,\n",
              "         -0.75314736,  0.91964495],\n",
              "        [-0.9198247 , -0.3276891 , -0.29137257, ..., -0.14430751,\n",
              "         -0.71314085,  0.9317897 ]], dtype=float32)>,\n",
              " 'sequence_output': <tf.Tensor: shape=(2, 128, 768), dtype=float32, numpy=\n",
              " array([[[-0.01947645, -0.16364068,  0.03249357, ..., -0.32246357,\n",
              "          -0.10321553,  0.27680674],\n",
              "         [ 0.8360975 , -0.42576903, -0.07546757, ..., -0.12131806,\n",
              "           0.70818347,  0.17979656],\n",
              "         [ 0.46575475, -0.3540932 ,  0.48913813, ...,  0.6902977 ,\n",
              "           0.03883436, -0.11570998],\n",
              "         ...,\n",
              "         [ 0.03398634, -0.5670009 ,  0.539082  , ...,  0.27371025,\n",
              "          -0.08995806, -0.28678426],\n",
              "         [ 0.08962552, -0.45080197,  0.6008092 , ...,  0.21469589,\n",
              "          -0.13585845, -0.23718402],\n",
              "         [ 0.2199311 , -0.40693924,  0.59237266, ...,  0.15673628,\n",
              "          -0.21479625, -0.31792015]],\n",
              " \n",
              "        [[ 0.19163266, -0.08432709,  0.138228  , ..., -0.29006705,\n",
              "           0.25109315,  0.20184518],\n",
              "         [ 0.30586958, -1.1486671 ,  0.52662516, ...,  0.03497126,\n",
              "          -0.03485549, -0.48570287],\n",
              "         [ 0.20420334, -0.6211743 ,  0.8119651 , ..., -0.05536687,\n",
              "           0.26515067, -0.902179  ],\n",
              "         ...,\n",
              "         [ 0.33268562, -0.1544872 ,  0.51649547, ...,  0.26458636,\n",
              "          -0.08252367, -0.02475262],\n",
              "         [ 0.33651564, -0.10786532,  0.56990737, ...,  0.22929925,\n",
              "          -0.09860706,  0.01515379],\n",
              "         [ 0.28770292, -0.24524891,  0.572879  , ...,  0.11910842,\n",
              "          -0.08280353,  0.01280247]]], dtype=float32)>}"
            ]
          },
          "metadata": {},
          "execution_count": 46
        }
      ]
    },
    {
      "cell_type": "code",
      "source": [
        "e = get_sentence_embeddings([\n",
        "    \"banana\", \n",
        "    \"grapes\",\n",
        "    \"mango\",\n",
        "    \"jeff bezos\",\n",
        "    \"elon musk\",\n",
        "    \"bill gates\"\n",
        "]\n",
        ")"
      ],
      "metadata": {
        "id": "klFVwLcsE5TT"
      },
      "execution_count": 48,
      "outputs": []
    },
    {
      "cell_type": "code",
      "source": [
        "from sklearn.metrics.pairwise import cosine_similarity\n",
        "print('Similarity of banana & grapes', cosine_similarity([e['pooled_output'][0]], [e['pooled_output'][1]]))\n",
        "print('Similarity of banana & elon musk', cosine_similarity([e['pooled_output'][0]], [e['pooled_output'][-2]]))\n",
        "print('Similarity of bill gates & elon musk', cosine_similarity([e['pooled_output'][-1]], [e['pooled_output'][-2]]))"
      ],
      "metadata": {
        "colab": {
          "base_uri": "https://localhost:8080/"
        },
        "id": "kn7BVmCrFKxL",
        "outputId": "0b4a8e0a-9b88-4c90-9ca6-9ce74f09c97b"
      },
      "execution_count": 59,
      "outputs": [
        {
          "output_type": "stream",
          "name": "stdout",
          "text": [
            "Similarity of banana & grapes [[0.99110866]]\n",
            "Similarity of banana & elon musk [[0.8933631]]\n",
            "Similarity of bill gates & elon musk [[0.9164166]]\n"
          ]
        }
      ]
    },
    {
      "cell_type": "markdown",
      "source": [
        "Build Model - Using functional API"
      ],
      "metadata": {
        "id": "iL8p3mTEF2zE"
      }
    },
    {
      "cell_type": "code",
      "source": [
        "text_input = tf.keras.layers.Input(shape=(), dtype=tf.string, name='text')\n",
        "\n",
        "preprocessed_text = bert_preprocess(text_input)\n",
        "embed_out = bert_encoder(preprocessed_text)\n",
        "\n",
        "l1 = tf.keras.layers.Dropout(0.1, name='Dropout')(embed_out['pooled_output'])\n",
        "l2 = tf.keras.layers.Dense(1, activation='sigmoid', name='output')(l1)\n",
        "\n",
        "model = tf.keras.Model(inputs=[text_input], outputs=[l2])"
      ],
      "metadata": {
        "id": "XZYMd0mlFQzL"
      },
      "execution_count": 63,
      "outputs": []
    },
    {
      "cell_type": "code",
      "source": [
        "model.summary()"
      ],
      "metadata": {
        "colab": {
          "base_uri": "https://localhost:8080/"
        },
        "id": "tprqJ0cXH7Ss",
        "outputId": "eb29e4f0-83a5-40f4-bfb1-129ebde98182"
      },
      "execution_count": 64,
      "outputs": [
        {
          "output_type": "stream",
          "name": "stdout",
          "text": [
            "Model: \"model\"\n",
            "__________________________________________________________________________________________________\n",
            " Layer (type)                   Output Shape         Param #     Connected to                     \n",
            "==================================================================================================\n",
            " text (InputLayer)              [(None,)]            0           []                               \n",
            "                                                                                                  \n",
            " keras_layer_2 (KerasLayer)     {'input_type_ids':   0           ['text[0][0]']                   \n",
            "                                (None, 128),                                                      \n",
            "                                 'input_word_ids':                                                \n",
            "                                (None, 128),                                                      \n",
            "                                 'input_mask': (Non                                               \n",
            "                                e, 128)}                                                          \n",
            "                                                                                                  \n",
            " keras_layer_3 (KerasLayer)     {'default': (None,   109482241   ['keras_layer_2[1][0]',          \n",
            "                                768),                             'keras_layer_2[1][1]',          \n",
            "                                 'encoder_outputs':               'keras_layer_2[1][2]']          \n",
            "                                 [(None, 128, 768),                                               \n",
            "                                 (None, 128, 768),                                                \n",
            "                                 (None, 128, 768),                                                \n",
            "                                 (None, 128, 768),                                                \n",
            "                                 (None, 128, 768),                                                \n",
            "                                 (None, 128, 768),                                                \n",
            "                                 (None, 128, 768),                                                \n",
            "                                 (None, 128, 768),                                                \n",
            "                                 (None, 128, 768),                                                \n",
            "                                 (None, 128, 768),                                                \n",
            "                                 (None, 128, 768),                                                \n",
            "                                 (None, 128, 768)],                                               \n",
            "                                 'pooled_output': (                                               \n",
            "                                None, 768),                                                       \n",
            "                                 'sequence_output':                                               \n",
            "                                 (None, 128, 768)}                                                \n",
            "                                                                                                  \n",
            " Dropout (Dropout)              (None, 768)          0           ['keras_layer_3[1][13]']         \n",
            "                                                                                                  \n",
            " output (Dense)                 (None, 1)            769         ['Dropout[0][0]']                \n",
            "                                                                                                  \n",
            "==================================================================================================\n",
            "Total params: 109,483,010\n",
            "Trainable params: 769\n",
            "Non-trainable params: 109,482,241\n",
            "__________________________________________________________________________________________________\n"
          ]
        }
      ]
    },
    {
      "cell_type": "code",
      "source": [
        "model.compile(optimizer='adam', loss='binary_crossentropy', metrics=['accuracy'])"
      ],
      "metadata": {
        "id": "OY8EkHymItXL"
      },
      "execution_count": 65,
      "outputs": []
    },
    {
      "cell_type": "code",
      "source": [
        "model.fit(X_train, y_train, validation_data=(X_test, y_test), batch_size=16, epochs=5)"
      ],
      "metadata": {
        "colab": {
          "base_uri": "https://localhost:8080/"
        },
        "id": "UVNH0ZjYJqIM",
        "outputId": "16dbed37-8107-4e6b-a925-1f05e7e010ab"
      },
      "execution_count": 66,
      "outputs": [
        {
          "output_type": "stream",
          "name": "stdout",
          "text": [
            "Epoch 1/5\n",
            "70/70 [==============================] - 695s 10s/step - loss: 0.6218 - accuracy: 0.6687 - val_loss: 0.5082 - val_accuracy: 0.8663\n",
            "Epoch 2/5\n",
            "70/70 [==============================] - 681s 10s/step - loss: 0.4680 - accuracy: 0.8313 - val_loss: 0.4156 - val_accuracy: 0.8770\n",
            "Epoch 3/5\n",
            "70/70 [==============================] - 671s 10s/step - loss: 0.4007 - accuracy: 0.8518 - val_loss: 0.3821 - val_accuracy: 0.8636\n",
            "Epoch 4/5\n",
            "70/70 [==============================] - 671s 10s/step - loss: 0.3569 - accuracy: 0.8866 - val_loss: 0.3350 - val_accuracy: 0.8850\n",
            "Epoch 5/5\n",
            "70/70 [==============================] - 672s 10s/step - loss: 0.3289 - accuracy: 0.8920 - val_loss: 0.3069 - val_accuracy: 0.8904\n"
          ]
        },
        {
          "output_type": "execute_result",
          "data": {
            "text/plain": [
              "<keras.callbacks.History at 0x7f2d746f3d00>"
            ]
          },
          "metadata": {},
          "execution_count": 66
        }
      ]
    },
    {
      "cell_type": "code",
      "source": [
        "model.evaluate(X_test, y_test)"
      ],
      "metadata": {
        "colab": {
          "base_uri": "https://localhost:8080/"
        },
        "id": "NnJWnZ6dJxSE",
        "outputId": "0eba7070-717b-4f25-cfd8-976463cb6b85"
      },
      "execution_count": 67,
      "outputs": [
        {
          "output_type": "stream",
          "name": "stdout",
          "text": [
            "12/12 [==============================] - 189s 15s/step - loss: 0.3069 - accuracy: 0.8904\n"
          ]
        },
        {
          "output_type": "execute_result",
          "data": {
            "text/plain": [
              "[0.30687615275382996, 0.8903743028640747]"
            ]
          },
          "metadata": {},
          "execution_count": 67
        }
      ]
    },
    {
      "cell_type": "markdown",
      "source": [
        "Inference"
      ],
      "metadata": {
        "id": "qTMV2RbpW4TJ"
      }
    },
    {
      "cell_type": "code",
      "source": [
        "sms = [\n",
        "    'Reply to win Â£100 weekly! Where will the 2006 FIFA World Cup be held? Send STOP to 87239 to end service',\n",
        "    'You are awarded a SiPix Digital Camera! call 09061221061 from landline. Delivery within 28days. T Cs Box177. M221BP. 2yr warranty. 150ppm. 16 . p pÂ£3.99',\n",
        "    'it to 80488. Your 500 free text messages are valid until 31 December 2005.',\n",
        "    'Hey Sam, Are you coming for a cricket game tomorrow',\n",
        "    \"Why don't you wait 'til at least wednesday to see if you get your .\"\n",
        "]\n",
        "y_hat = model.predict(sms)\n",
        "y_hat"
      ],
      "metadata": {
        "colab": {
          "base_uri": "https://localhost:8080/"
        },
        "id": "qHy1Pv4zWxYx",
        "outputId": "2211edc2-46ee-4355-9f77-4ef8cddf2929"
      },
      "execution_count": 70,
      "outputs": [
        {
          "output_type": "execute_result",
          "data": {
            "text/plain": [
              "array([[0.7290125 ],\n",
              "       [0.80359244],\n",
              "       [0.7618607 ],\n",
              "       [0.25509614],\n",
              "       [0.14641207]], dtype=float32)"
            ]
          },
          "metadata": {},
          "execution_count": 70
        }
      ]
    },
    {
      "cell_type": "code",
      "source": [
        "np.where(y_hat > 0.5, 1, 0)"
      ],
      "metadata": {
        "colab": {
          "base_uri": "https://localhost:8080/"
        },
        "id": "ODjtwJhBW6j5",
        "outputId": "e79e9ef6-a615-4c20-b0a1-c679cf9bc76c"
      },
      "execution_count": 73,
      "outputs": [
        {
          "output_type": "execute_result",
          "data": {
            "text/plain": [
              "array([[1],\n",
              "       [1],\n",
              "       [1],\n",
              "       [0],\n",
              "       [0]])"
            ]
          },
          "metadata": {},
          "execution_count": 73
        }
      ]
    },
    {
      "cell_type": "code",
      "source": [],
      "metadata": {
        "id": "USYyE8TxX0mJ"
      },
      "execution_count": null,
      "outputs": []
    }
  ]
}